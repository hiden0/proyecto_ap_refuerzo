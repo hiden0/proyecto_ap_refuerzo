{
  "cells": [
    {
      "cell_type": "markdown",
      "metadata": {
        "id": "jUehXgCyIRdq"
      },
      "source": [
        "# Actividad - Proyecto práctico\n",
        "\n",
        "\n",
        "> La actividad se desarrollará en grupos pre-definidos de 2-3 alumnos. Se debe indicar los nombres en orden alfabético (de apellidos). Recordad que esta actividad se corresponde con un 30% de la nota final de la asignatura. Se debe entregar entregar el trabajo en la presente notebook.\n",
        "*   Alumno 1:\n",
        "*   Alumno 2:\n",
        "*   Alumno 3:\n",
        "\n",
        "\n",
        "\n",
        "\n"
      ]
    },
    {
      "cell_type": "markdown",
      "metadata": {
        "id": "JwpYlnjWJhS9"
      },
      "source": [
        "---\n",
        "## **PARTE 1** - Instalación y requisitos previos\n",
        "\n",
        "> Las prácticas han sido preparadas para poder realizarse en el entorno de trabajo de Google Colab. Sin embargo, esta plataforma presenta ciertas incompatibilidades a la hora de visualizar la renderización en gym. Por ello, para obtener estas visualizaciones, se deberá trasladar el entorno de trabajo a local. Por ello, el presente dosier presenta instrucciones para poder trabajar en ambos entornos. Siga los siguientes pasos para un correcto funcionamiento:\n",
        "1.   **LOCAL:** Preparar el enviroment, siguiendo las intrucciones detalladas en la sección *1.1.Preparar enviroment*.\n",
        "2.  **AMBOS:** Modificar las variables \"mount\" y \"drive_mount\" a la carpeta de trabajo en drive en el caso de estar en Colab, y ejecturar la celda *1.2.Localizar entorno de trabajo*.\n",
        "3. **COLAB:** se deberá ejecutar las celdas correspondientes al montaje de la carpeta de trabajo en Drive. Esta corresponde a la sección *1.3.Montar carpeta de datos local*.\n",
        "4.  **AMBOS:** Instalar las librerías necesarias, siguiendo la sección *1.4.Instalar librerías necesarias*.\n"
      ]
    },
    {
      "cell_type": "markdown",
      "metadata": {
        "id": "RU2BPrK2JkP0"
      },
      "source": [
        "---\n",
        "### 1.1. Preparar enviroment (solo local)\n",
        "\n",
        "\n",
        "\n",
        "> Para preparar el entorno de trabajo en local, se han seguido los siguientes pasos:\n",
        "1. En Windows, puede ser necesario instalar las C++ Build Tools. Para ello, siga los siguientes pasos: https://towardsdatascience.com/how-to-install-openai-gym-in-a-windows-environment-338969e24d30.\n",
        "2. Instalar Anaconda\n",
        "3. Siguiendo el código que se presenta comentado en la próxima celda: Crear un enviroment, cambiar la ruta de trabajo, e instalar librerías básicas.\n",
        "\n",
        "\n",
        "```\n",
        "conda create --name miar_rl python=3.8\n",
        "conda activate miar_rl\n",
        "cd \"PATH_TO_FOLDER\"\n",
        "conda install git\n",
        "pip install jupyter\n",
        "```\n",
        "\n",
        "\n",
        "4. Abrir la notebook con *jupyter-notebook*.\n",
        "\n",
        "\n",
        "\n",
        "```\n",
        "jupyter-notebook\n",
        "```\n"
      ]
    },
    {
      "cell_type": "markdown",
      "metadata": {
        "id": "i1ZSL5bpJ560"
      },
      "source": [
        "---\n",
        "### 1.4. Instalar librerías necesarias\n",
        "(descomenta si es la primera vez que corres el codigo)"
      ]
    },
    {
      "cell_type": "code",
      "execution_count": 5,
      "metadata": {
        "colab": {
          "base_uri": "https://localhost:8080/"
        },
        "id": "UbVRjvHCJ8UF",
        "outputId": "18c58634-0271-4bc8-8443-ab484ca4a25d"
      },
      "outputs": [],
      "source": [
        "# %pip install gym==0.17.3\n",
        "# %pip install git+https://github.com/Kojoley/atari-py.git\n",
        "# %pip install pyglet==1.5.0\n",
        "# %pip install h5py==3.1.0\n",
        "# %pip install Pillow==9.5.0\n",
        "# %pip install keras-rl2==1.0.5\n",
        "# %pip install Keras==2.2.4\n",
        "# %pip install tensorflow==2.5.3\n",
        "# %pip install torch==2.0.1\n",
        "# %pip install agents==1.4.0"
      ]
    },
    {
      "cell_type": "markdown",
      "metadata": {
        "id": "4hzP_5ZuGb2X"
      },
      "source": [
        "---\n",
        "## **PARTE 2**. Enunciado\n",
        "\n",
        "Consideraciones a tener en cuenta:\n",
        "\n",
        "- El entorno sobre el que trabajaremos será _SpaceInvaders-v0_ y el algoritmo que usaremos será _DQN_.\n",
        "\n",
        "- Para nuestro ejercicio, el requisito mínimo será alcanzado cuando el agente consiga una **media de recompensa por encima de 20 puntos en modo test**. Por ello, esta media de la recompensa se calculará a partir del código de test en la última celda del notebook.\n",
        "\n",
        "Este proyecto práctico consta de tres partes:\n",
        "\n",
        "1.   Implementar la red neuronal que se usará en la solución\n",
        "2.   Implementar las distintas piezas de la solución DQN\n",
        "3.   Justificar la respuesta en relación a los resultados obtenidos\n",
        "\n",
        "**Rúbrica**: Se valorará la originalidad en la solución aportada, así como la capacidad de discutir los resultados de forma detallada. El requisito mínimo servirá para aprobar la actividad, bajo premisa de que la discusión del resultado sera apropiada.\n",
        "\n",
        "IMPORTANTE:\n",
        "\n",
        "* Si no se consigue una puntuación óptima, responder sobre la mejor puntuación obtenida.\n",
        "* Para entrenamientos largos, recordad que podéis usar checkpoints de vuestros modelos para retomar los entrenamientos. En este caso, recordad cambiar los parámetros adecuadamente (sobre todo los relacionados con el proceso de exploración).\n",
        "* Se deberá entregar unicamente el notebook y los pesos del mejor modelo en un fichero .zip, de forma organizada.\n",
        "* Cada alumno deberá de subir la solución de forma individual."
      ]
    },
    {
      "cell_type": "markdown",
      "metadata": {
        "id": "6_b3mzw8IzJP"
      },
      "source": [
        "---\n",
        "## **PARTE 3**. Desarrollo y preguntas"
      ]
    },
    {
      "cell_type": "markdown",
      "metadata": {
        "id": "duPmUNOVGb2a"
      },
      "source": [
        "#### Importar librerías"
      ]
    },
    {
      "cell_type": "code",
      "execution_count": 1,
      "metadata": {
        "id": "j3eRhgI-Gb2a"
      },
      "outputs": [
        {
          "name": "stderr",
          "output_type": "stream",
          "text": [
            "c:\\Users\\javie\\anaconda3\\envs\\gym\\lib\\site-packages\\numpy\\_distributor_init.py:30: UserWarning: loaded more than 1 DLL from .libs:\n",
            "c:\\Users\\javie\\anaconda3\\envs\\gym\\lib\\site-packages\\numpy\\.libs\\libopenblas.WCDJNK7YVMPZQ2ME2ZZHJJRJ3JIKNDB7.gfortran-win_amd64.dll\n",
            "c:\\Users\\javie\\anaconda3\\envs\\gym\\lib\\site-packages\\numpy\\.libs\\libopenblas64__v0.3.21-gcc_10_3_0.dll\n",
            "  warnings.warn(\"loaded more than 1 DLL from .libs:\"\n"
          ]
        }
      ],
      "source": [
        "from __future__ import division\n",
        "\n",
        "from PIL import Image\n",
        "import numpy as np\n",
        "import gym\n",
        "\n",
        "from tensorflow.keras.models import Sequential, Model\n",
        "from tensorflow.keras.layers import Dense, Activation, Flatten, Convolution2D, Permute, Input, concatenate, Lambda\n",
        "from tensorflow.keras.optimizers import Adam\n",
        "import tensorflow.keras.backend as K\n",
        "\n",
        "from rl.agents.dqn import DQNAgent\n",
        "from rl.policy import LinearAnnealedPolicy, BoltzmannQPolicy, EpsGreedyQPolicy\n",
        "from rl.memory import SequentialMemory\n",
        "from rl.core import Processor\n",
        "from rl.callbacks import FileLogger, ModelIntervalCheckpoint"
      ]
    },
    {
      "cell_type": "code",
      "execution_count": 2,
      "metadata": {},
      "outputs": [],
      "source": [
        "class StickyActionEnv(gym.Wrapper):\n",
        "    def __init__(self, env, sticky_prob=0.25):\n",
        "        super(StickyActionEnv, self).__init__(env)\n",
        "        self.sticky_prob = sticky_prob\n",
        "        self.last_action = None\n",
        "\n",
        "    def step(self, action):\n",
        "        if self.last_action is not None and np.random.rand() < self.sticky_prob:\n",
        "            action = self.last_action\n",
        "        self.last_action = action\n",
        "        obs, reward, done, info = self.env.step(action)\n",
        "        return obs, reward, done, info\n",
        "\n",
        "    def reset(self, **kwargs):\n",
        "        self.last_action = None\n",
        "        return self.env.reset(**kwargs)"
      ]
    },
    {
      "cell_type": "markdown",
      "metadata": {
        "id": "f4jgQjzoGb2a"
      },
      "source": [
        "#### Configuración base"
      ]
    },
    {
      "cell_type": "code",
      "execution_count": 3,
      "metadata": {
        "id": "jwOE6I_KGb2a"
      },
      "outputs": [],
      "source": [
        "INPUT_SHAPE = (84, 84)\n",
        "WINDOW_LENGTH = 4\n",
        "IN_COLAB=False\n",
        "\n",
        "env_name = 'SpaceInvaders-v0'\n",
        "env = gym.make(env_name)\n",
        "sticky_env = StickyActionEnv(env, sticky_prob=0.25)\n",
        "np.random.seed(123)\n",
        "env.seed(123)\n",
        "nb_actions = env.action_space.n"
      ]
    },
    {
      "cell_type": "code",
      "execution_count": 4,
      "metadata": {
        "colab": {
          "base_uri": "https://localhost:8080/"
        },
        "id": "MKaHcYyhgZEa",
        "outputId": "644ca422-a7b4-4145-b848-4fa51a439d6b"
      },
      "outputs": [
        {
          "name": "stdout",
          "output_type": "stream",
          "text": [
            "Numero de acciones disponibles:6\n",
            "Formato de las observaciones:\n"
          ]
        },
        {
          "data": {
            "text/plain": [
              "Box(0, 255, (210, 160, 3), uint8)"
            ]
          },
          "execution_count": 4,
          "metadata": {},
          "output_type": "execute_result"
        }
      ],
      "source": [
        "print(\"Numero de acciones disponibles:\" + str(nb_actions))\n",
        "print(\"Formato de las observaciones:\")\n",
        "sticky_env.observation_space"
      ]
    },
    {
      "cell_type": "markdown",
      "metadata": {
        "id": "eMkfp2vDmRkD"
      },
      "source": [
        "Un espacio de soluciones de dimensiones (210,160,3) tiene un tamaño inmanejable. Se puede reducir ese espacio a un tamaño de 84x84 con una window length 4."
      ]
    },
    {
      "cell_type": "code",
      "execution_count": 5,
      "metadata": {
        "id": "9jGEZUcpGb2a"
      },
      "outputs": [],
      "source": [
        "class AtariProcessor(Processor):\n",
        "    def process_observation(self, observation):\n",
        "        assert observation.ndim == 3  # (height, width, channel)\n",
        "        img = Image.fromarray(observation)\n",
        "        img = img.resize(INPUT_SHAPE).convert('L')\n",
        "        processed_observation = np.array(img)\n",
        "        assert processed_observation.shape == INPUT_SHAPE\n",
        "        return processed_observation.astype('uint8')\n",
        "\n",
        "    def process_state_batch(self, batch):\n",
        "        processed_batch = batch.astype('float32') / 255.\n",
        "        return processed_batch\n",
        "\n",
        "    def process_reward(self, reward):\n",
        "        return np.clip(reward, -1., 1.)"
      ]
    },
    {
      "cell_type": "markdown",
      "metadata": {
        "id": "s3f9lie5gktz"
      },
      "source": [
        "## 1. Implementación de la red neuronal"
      ]
    },
    {
      "cell_type": "markdown",
      "metadata": {
        "id": "E-oag6zzn87v"
      },
      "source": [
        "Se puede hacer:\n",
        "\n",
        "\n",
        "1.   DQN\n",
        "2.   Doble DQN\n",
        "3.   Duel DQN\n",
        "\n",
        "Y luego también variar el discount factor, cambios en epsilon, tamaño de memoria, uso de epsilon greedy vs. boltzman y escribir como varía el resultado. Cambiar el número de episodios es un poco gilipollez, dara mejores resultados por más train. Usamos un número pequeño de episodios. el mínimo para que llegue a 20 puntos y a partir de ahí vamos probando. También podríamos cambiar el input de la red neuronal.\n",
        "\n",
        "## VER EN CONJUNTO\n",
        "\n",
        "\n",
        "\n"
      ]
    },
    {
      "cell_type": "code",
      "execution_count": 6,
      "metadata": {
        "colab": {
          "base_uri": "https://localhost:8080/"
        },
        "id": "foSlxWH1Gb2b",
        "outputId": "fa54614b-14a6-40c4-b2e4-924b57a189ca"
      },
      "outputs": [
        {
          "name": "stderr",
          "output_type": "stream",
          "text": [
            "c:\\Users\\javie\\anaconda3\\envs\\gym\\lib\\site-packages\\tensorflow\\python\\keras\\optimizer_v2\\optimizer_v2.py:374: UserWarning: The `lr` argument is deprecated, use `learning_rate` instead.\n",
            "  warnings.warn(\n"
          ]
        }
      ],
      "source": [
        "# arquitectura de DeepMind paper\n",
        "def construct_double_q_network(input_shape, num_actions, loss='mse', optimizer=Adam(lr=0.0001)):\n",
        "\n",
        "        input_layer = Input(shape=input_shape)\n",
        "        permuted_layer = Permute((3, 2, 1))(input_layer)   #IMPORTANTE \n",
        "        conv1 = Convolution2D(32, (8, 8), strides=(4, 4), activation='relu')(permuted_layer)\n",
        "        conv2 = Convolution2D(64, (4, 4), strides=(2, 2), activation='relu')(conv1)\n",
        "        conv3 = Convolution2D(64, (3, 3), activation='relu')(conv2)\n",
        "        flatten = Flatten()(conv3)\n",
        "\n",
        "        fc1 = Dense(512)(flatten)\n",
        "        advantage = Dense(num_actions)(fc1)\n",
        "\n",
        "        fc2 = Dense(512)(flatten)\n",
        "        value = Dense(1)(fc2)\n",
        "\n",
        "        policy = concatenate([advantage, value], axis=-1)\n",
        "        #policy = Lambda(lambda x: x[:, :-1] - K.mean(x[:, :-1], axis=1, keepdims=True) + x[:, -1])(policy)\n",
        "        def custom_lambda(x):\n",
        "            adv = x[:, :-1]\n",
        "            val = x[:, -1:]\n",
        "            print(f\"adv shape: {adv.shape}, val shape: {val.shape}\")\n",
        "            return adv - K.mean(adv, axis=1, keepdims=True) + val\n",
        "\n",
        "        policy = Lambda(custom_lambda)(policy)\n",
        "\n",
        "\n",
        "        model = Model(inputs=input_layer, outputs=policy)\n",
        "        model.compile(loss=loss, optimizer=optimizer)\n",
        "\n",
        "\n",
        "        print(\"Successfully constructed networks.\")\n",
        "\n",
        "        return model"
      ]
    },
    {
      "cell_type": "markdown",
      "metadata": {
        "id": "OOYcwbDA2U9M"
      },
      "source": [
        "Ver aquí parámetros del https://www.tensorflow.org/agents/api_docs/python/tf_agents/agents/DqnAgent"
      ]
    },
    {
      "cell_type": "code",
      "execution_count": 10,
      "metadata": {},
      "outputs": [],
      "source": [
        "memory = SequentialMemory(limit=50000, window_length=WINDOW_LENGTH)\n",
        "processor = AtariProcessor()\n",
        "# Definir la política base\n",
        "base_policy = EpsGreedyQPolicy()\n",
        "\n",
        "# Configurar LinearAnnealedPolicy con los parámetros necesarios\n",
        "policy = LinearAnnealedPolicy(base_policy,\n",
        "                              attr='eps',  # El atributo que se debe anillar\n",
        "                              value_max=1.0,  # Valor inicial de epsilon\n",
        "                              value_min=0.1,  # Valor final de epsilon\n",
        "                              value_test=0.05,  # Valor de epsilon durante la prueba\n",
        "                              nb_steps=10000)  # Número de pasos para el anillado"
      ]
    },
    {
      "cell_type": "code",
      "execution_count": 12,
      "metadata": {
        "id": "axoaV7dz10ym"
      },
      "outputs": [
        {
          "name": "stdout",
          "output_type": "stream",
          "text": [
            "adv shape: (None, 6), val shape: (None, 1)\n",
            "Successfully constructed networks.\n",
            "Model: \"model_3\"\n",
            "__________________________________________________________________________________________________\n",
            "Layer (type)                    Output Shape         Param #     Connected to                     \n",
            "==================================================================================================\n",
            "input_3 (InputLayer)            [(None, 4, 84, 84)]  0                                            \n",
            "__________________________________________________________________________________________________\n",
            "permute_2 (Permute)             (None, 84, 84, 4)    0           input_3[0][0]                    \n",
            "__________________________________________________________________________________________________\n",
            "conv2d_6 (Conv2D)               (None, 20, 20, 32)   8224        permute_2[0][0]                  \n",
            "__________________________________________________________________________________________________\n",
            "conv2d_7 (Conv2D)               (None, 9, 9, 64)     32832       conv2d_6[0][0]                   \n",
            "__________________________________________________________________________________________________\n",
            "conv2d_8 (Conv2D)               (None, 7, 7, 64)     36928       conv2d_7[0][0]                   \n",
            "__________________________________________________________________________________________________\n",
            "flatten_2 (Flatten)             (None, 3136)         0           conv2d_8[0][0]                   \n",
            "__________________________________________________________________________________________________\n",
            "dense_8 (Dense)                 (None, 512)          1606144     flatten_2[0][0]                  \n",
            "__________________________________________________________________________________________________\n",
            "dense_10 (Dense)                (None, 512)          1606144     flatten_2[0][0]                  \n",
            "__________________________________________________________________________________________________\n",
            "dense_9 (Dense)                 (None, 6)            3078        dense_8[0][0]                    \n",
            "__________________________________________________________________________________________________\n",
            "dense_11 (Dense)                (None, 1)            513         dense_10[0][0]                   \n",
            "__________________________________________________________________________________________________\n",
            "concatenate_2 (Concatenate)     (None, 7)            0           dense_9[0][0]                    \n",
            "                                                                 dense_11[0][0]                   \n",
            "__________________________________________________________________________________________________\n",
            "lambda_2 (Lambda)               (None, 6)            0           concatenate_2[0][0]              \n",
            "==================================================================================================\n",
            "Total params: 3,293,863\n",
            "Trainable params: 3,293,863\n",
            "Non-trainable params: 0\n",
            "__________________________________________________________________________________________________\n"
          ]
        }
      ],
      "source": [
        "model = construct_double_q_network(input_shape=(4, 84,84), num_actions=6, loss='mse', optimizer=Adam(lr=0.0001))\n",
        "model.summary()\n"
      ]
    },
    {
      "cell_type": "code",
      "execution_count": 9,
      "metadata": {},
      "outputs": [
        {
          "name": "stdout",
          "output_type": "stream",
          "text": [
            "adv shape: (None, 6), val shape: (None, 1)\n"
          ]
        }
      ],
      "source": [
        "# dqn = DQNAgent(model=model, \n",
        "#                 nb_actions=nb_actions, \n",
        "#                 policy=policy,\n",
        "#                memory=memory, \n",
        "#                processor=processor,\n",
        "#                nb_steps_warmup=50000, \n",
        "#                gamma=.99,\n",
        "#                target_model_update=10000,\n",
        "#                train_interval=4)\n",
        "\n",
        "\n",
        "\n",
        "\n",
        "dqn = DQNAgent(model=model, \n",
        "                nb_actions=nb_actions,\n",
        "                processor=processor,\n",
        "                memory=memory,\n",
        "                nb_steps_warmup=50000,\n",
        "                target_model_update=1e-2, \n",
        "                policy=policy, \n",
        "                enable_double_dqn=True) #target model te congela durante 100 steps lo que se usa para el \"ground truth\"\n",
        "\n",
        "dqn.compile(Adam(learning_rate=.00025), metrics=['mae'])"
      ]
    },
    {
      "cell_type": "code",
      "execution_count": 11,
      "metadata": {
        "id": "5TIpBvFH5uGa"
      },
      "outputs": [
        {
          "name": "stdout",
          "output_type": "stream",
          "text": [
            "Training for 1000000 steps ...\n",
            "Interval 1 (0 steps performed)\n"
          ]
        },
        {
          "name": "stderr",
          "output_type": "stream",
          "text": [
            "c:\\Users\\javie\\anaconda3\\envs\\gym\\lib\\site-packages\\tensorflow\\python\\keras\\engine\\training.py:2424: UserWarning: `Model.state_updates` will be removed in a future version. This property should not be used in TensorFlow 2.0, as `updates` are applied automatically.\n",
            "  warnings.warn('`Model.state_updates` will be removed in a future version. '\n"
          ]
        },
        {
          "name": "stdout",
          "output_type": "stream",
          "text": [
            " 2129/10000 [=====>........................] - ETA: 1:03 - reward: 0.016done, took 17.490 seconds\n"
          ]
        }
      ],
      "source": [
        "# Training part\n",
        "weights_filename = 'dqn3_{}_weights.h5f'.format(env_name)\n",
        "checkpoint_weights_filename = 'dqn3_' + env_name + '_weights_{step}.h5f'\n",
        "log_filename = 'dqn3_{}_log.json'.format(env_name)\n",
        "callbacks = [ModelIntervalCheckpoint(checkpoint_weights_filename, interval=250000)]\n",
        "callbacks += [FileLogger(log_filename, interval=100)]\n",
        "\n",
        "dqn.fit(sticky_env, callbacks=callbacks, nb_steps=1000000, log_interval=10000, visualize=False)\n",
        "\n",
        "dqn.save_weights(weights_filename, overwrite=True)"
      ]
    },
    {
      "cell_type": "code",
      "execution_count": 16,
      "metadata": {
        "id": "OHYryKd1Gb2b"
      },
      "outputs": [
        {
          "name": "stdout",
          "output_type": "stream",
          "text": [
            "Testing for 10 episodes ...\n",
            "Episode 1: reward: 16.000, steps: 731\n",
            "Episode 2: reward: 6.000, steps: 706\n",
            "Episode 3: reward: 17.000, steps: 1109\n",
            "Episode 4: reward: 12.000, steps: 729\n",
            "Episode 5: reward: 14.000, steps: 703\n",
            "Episode 6: reward: 6.000, steps: 432\n",
            "Episode 7: reward: 12.000, steps: 697\n",
            "Episode 8: reward: 10.000, steps: 666\n",
            "Episode 9: reward: 18.000, steps: 1103\n",
            "Episode 10: reward: 20.000, steps: 1065\n"
          ]
        },
        {
          "data": {
            "text/plain": [
              "<tensorflow.python.keras.callbacks.History at 0x2e20289abe0>"
            ]
          },
          "execution_count": 16,
          "metadata": {},
          "output_type": "execute_result"
        }
      ],
      "source": [
        "# Testing part to calculate the mean reward\n",
        "weights_filename = 'dqn2_{}_weights_250000.h5f'.format(env_name)\n",
        "dqn.load_weights(weights_filename)\n",
        "dqn.test(env, nb_episodes=10, visualize=False)"
      ]
    },
    {
      "cell_type": "code",
      "execution_count": 14,
      "metadata": {},
      "outputs": [],
      "source": [
        "checkpoint_filename = 'dqn2_{}_weights_250000.h5f'.format(env_name)\n",
        "dqn.load_weights(checkpoint_filename)\n",
        "\n",
        "weights_filename = 'dqn2_{}_weights.h5f'.format(env_name)\n",
        "checkpoint_weights_filename = 'dqn2_' + env_name + '_weights_{step}.h5f'\n",
        "log_filename = 'dqn2_{}_log.json'.format(env_name)\n",
        "callbacks = [ModelIntervalCheckpoint(checkpoint_weights_filename, interval=250000)]\n",
        "callbacks += [FileLogger(log_filename, interval=100)]"
      ]
    },
    {
      "cell_type": "code",
      "execution_count": 18,
      "metadata": {},
      "outputs": [
        {
          "name": "stdout",
          "output_type": "stream",
          "text": [
            "Training for 750000 steps ...\n",
            "Interval 1 (0 steps performed)\n",
            "    1/10000 [..............................] - ETA: 49s - reward: 0.0000e+00"
          ]
        },
        {
          "name": "stdout",
          "output_type": "stream",
          "text": [
            "10000/10000 [==============================] - 58s 6ms/step - reward: 0.0157\n",
            "13 episodes - episode_reward: 11.538 [4.000, 24.000] - ale.lives: 1.990\n",
            "\n",
            "Interval 2 (10000 steps performed)\n",
            "10000/10000 [==============================] - 58s 6ms/step - reward: 0.0169\n",
            "13 episodes - episode_reward: 13.308 [4.000, 21.000] - ale.lives: 1.996\n",
            "\n",
            "Interval 3 (20000 steps performed)\n",
            "10000/10000 [==============================] - 58s 6ms/step - reward: 0.0179\n",
            "15 episodes - episode_reward: 11.800 [6.000, 23.000] - ale.lives: 2.115\n",
            "\n",
            "Interval 4 (30000 steps performed)\n",
            "10000/10000 [==============================] - 57s 6ms/step - reward: 0.0169\n",
            "13 episodes - episode_reward: 13.077 [4.000, 23.000] - ale.lives: 2.059\n",
            "\n",
            "Interval 5 (40000 steps performed)\n",
            "10000/10000 [==============================] - 57s 6ms/step - reward: 0.0157\n",
            "13 episodes - episode_reward: 12.154 [5.000, 23.000] - ale.lives: 2.215\n",
            "\n",
            "Interval 6 (50000 steps performed)\n",
            "10000/10000 [==============================] - 1448s 145ms/step - reward: 0.0155\n",
            "14 episodes - episode_reward: 11.071 [3.000, 22.000] - loss: 0.018 - mae: 3.105 - mean_q: 3.742 - mean_eps: 0.100 - ale.lives: 2.067\n",
            "\n",
            "Interval 7 (60000 steps performed)\n",
            "10000/10000 [==============================] - 1458s 146ms/step - reward: 0.0179\n",
            "13 episodes - episode_reward: 12.231 [2.000, 22.000] - loss: 0.022 - mae: 3.654 - mean_q: 4.411 - mean_eps: 0.100 - ale.lives: 1.996\n",
            "\n",
            "Interval 8 (70000 steps performed)\n",
            "10000/10000 [==============================] - 1437s 144ms/step - reward: 0.0160\n",
            "15 episodes - episode_reward: 12.200 [5.000, 26.000] - loss: 0.026 - mae: 4.169 - mean_q: 5.030 - mean_eps: 0.100 - ale.lives: 1.986\n",
            "\n",
            "Interval 9 (80000 steps performed)\n",
            "10000/10000 [==============================] - 1495s 150ms/step - reward: 0.0170\n",
            "12 episodes - episode_reward: 12.333 [3.000, 21.000] - loss: 0.028 - mae: 4.264 - mean_q: 5.144 - mean_eps: 0.100 - ale.lives: 2.068\n",
            "\n",
            "Interval 10 (90000 steps performed)\n",
            "10000/10000 [==============================] - 1500s 150ms/step - reward: 0.0171\n",
            "12 episodes - episode_reward: 15.167 [8.000, 23.000] - loss: 0.028 - mae: 4.353 - mean_q: 5.249 - mean_eps: 0.100 - ale.lives: 2.161\n",
            "\n",
            "Interval 11 (100000 steps performed)\n",
            "10000/10000 [==============================] - 1507s 151ms/step - reward: 0.0154\n",
            "12 episodes - episode_reward: 13.667 [0.000, 23.000] - loss: 0.027 - mae: 4.246 - mean_q: 5.119 - mean_eps: 0.100 - ale.lives: 2.041\n",
            "\n",
            "Interval 12 (110000 steps performed)\n",
            "10000/10000 [==============================] - 1564s 156ms/step - reward: 0.0209\n",
            "11 episodes - episode_reward: 18.182 [10.000, 31.000] - loss: 0.025 - mae: 4.118 - mean_q: 4.965 - mean_eps: 0.100 - ale.lives: 2.071\n",
            "\n",
            "Interval 13 (120000 steps performed)\n",
            "10000/10000 [==============================] - 1603s 160ms/step - reward: 0.0197\n",
            "12 episodes - episode_reward: 16.667 [4.000, 32.000] - loss: 0.023 - mae: 4.020 - mean_q: 4.847 - mean_eps: 0.100 - ale.lives: 2.198\n",
            "\n",
            "Interval 14 (130000 steps performed)\n",
            "10000/10000 [==============================] - 1617s 162ms/step - reward: 0.0194\n",
            "12 episodes - episode_reward: 16.417 [4.000, 30.000] - loss: 0.023 - mae: 3.949 - mean_q: 4.762 - mean_eps: 0.100 - ale.lives: 2.181\n",
            "\n",
            "Interval 15 (140000 steps performed)\n",
            "10000/10000 [==============================] - 1617s 162ms/step - reward: 0.0152\n",
            "13 episodes - episode_reward: 11.538 [4.000, 20.000] - loss: 0.024 - mae: 4.000 - mean_q: 4.823 - mean_eps: 0.100 - ale.lives: 2.080\n",
            "\n",
            "Interval 16 (150000 steps performed)\n",
            "10000/10000 [==============================] - 1680s 168ms/step - reward: 0.0183\n",
            "12 episodes - episode_reward: 14.333 [3.000, 29.000] - loss: 0.023 - mae: 3.957 - mean_q: 4.769 - mean_eps: 0.100 - ale.lives: 2.170\n",
            "\n",
            "Interval 17 (160000 steps performed)\n",
            "10000/10000 [==============================] - 1701s 170ms/step - reward: 0.0180\n",
            "13 episodes - episode_reward: 14.923 [8.000, 22.000] - loss: 0.023 - mae: 3.912 - mean_q: 4.715 - mean_eps: 0.100 - ale.lives: 2.031\n",
            "\n",
            "Interval 18 (170000 steps performed)\n",
            "10000/10000 [==============================] - 1724s 172ms/step - reward: 0.0183\n",
            "13 episodes - episode_reward: 14.231 [3.000, 33.000] - loss: 0.023 - mae: 3.923 - mean_q: 4.729 - mean_eps: 0.100 - ale.lives: 2.073\n",
            "\n",
            "Interval 19 (180000 steps performed)\n",
            "10000/10000 [==============================] - 1752s 175ms/step - reward: 0.0180\n",
            "12 episodes - episode_reward: 15.000 [6.000, 26.000] - loss: 0.023 - mae: 3.886 - mean_q: 4.683 - mean_eps: 0.100 - ale.lives: 2.078\n",
            "\n",
            "Interval 20 (190000 steps performed)\n",
            "10000/10000 [==============================] - 1972s 197ms/step - reward: 0.0189\n",
            "11 episodes - episode_reward: 17.182 [11.000, 27.000] - loss: 0.023 - mae: 3.831 - mean_q: 4.615 - mean_eps: 0.100 - ale.lives: 2.001\n",
            "\n",
            "Interval 21 (200000 steps performed)\n",
            "10000/10000 [==============================] - 2127s 213ms/step - reward: 0.0182\n",
            "13 episodes - episode_reward: 13.615 [3.000, 32.000] - loss: 0.022 - mae: 3.795 - mean_q: 4.573 - mean_eps: 0.100 - ale.lives: 2.064\n",
            "\n",
            "Interval 22 (210000 steps performed)\n",
            "10000/10000 [==============================] - 2166s 217ms/step - reward: 0.0200\n",
            "15 episodes - episode_reward: 13.067 [5.000, 31.000] - loss: 0.023 - mae: 3.767 - mean_q: 4.538 - mean_eps: 0.100 - ale.lives: 2.229\n",
            "\n",
            "Interval 23 (220000 steps performed)\n",
            "10000/10000 [==============================] - 2178s 218ms/step - reward: 0.0186\n",
            "14 episodes - episode_reward: 13.929 [3.000, 29.000] - loss: 0.024 - mae: 3.836 - mean_q: 4.623 - mean_eps: 0.100 - ale.lives: 2.088\n",
            "\n",
            "Interval 24 (230000 steps performed)\n",
            "10000/10000 [==============================] - 2215s 221ms/step - reward: 0.0178\n",
            "13 episodes - episode_reward: 13.769 [8.000, 21.000] - loss: 0.023 - mae: 3.739 - mean_q: 4.504 - mean_eps: 0.100 - ale.lives: 2.076\n",
            "\n",
            "Interval 25 (240000 steps performed)\n",
            "10000/10000 [==============================] - 2263s 226ms/step - reward: 0.0189\n",
            "11 episodes - episode_reward: 16.364 [9.000, 25.000] - loss: 0.022 - mae: 3.689 - mean_q: 4.445 - mean_eps: 0.100 - ale.lives: 2.100\n",
            "\n",
            "Interval 26 (250000 steps performed)\n",
            "10000/10000 [==============================] - 2293s 229ms/step - reward: 0.0193\n",
            "13 episodes - episode_reward: 15.000 [9.000, 23.000] - loss: 0.023 - mae: 3.729 - mean_q: 4.491 - mean_eps: 0.100 - ale.lives: 1.964\n",
            "\n",
            "Interval 27 (260000 steps performed)\n",
            "10000/10000 [==============================] - 2328s 233ms/step - reward: 0.0177\n",
            "11 episodes - episode_reward: 16.000 [7.000, 26.000] - loss: 0.023 - mae: 3.715 - mean_q: 4.474 - mean_eps: 0.100 - ale.lives: 2.180\n",
            "\n",
            "Interval 28 (270000 steps performed)\n",
            "10000/10000 [==============================] - 2367s 237ms/step - reward: 0.0194\n",
            "12 episodes - episode_reward: 15.417 [5.000, 28.000] - loss: 0.024 - mae: 3.723 - mean_q: 4.484 - mean_eps: 0.100 - ale.lives: 2.134\n",
            "\n",
            "Interval 29 (280000 steps performed)\n",
            "10000/10000 [==============================] - 2491s 249ms/step - reward: 0.0181\n",
            "14 episodes - episode_reward: 14.071 [3.000, 30.000] - loss: 0.024 - mae: 3.719 - mean_q: 4.479 - mean_eps: 0.100 - ale.lives: 2.072\n",
            "\n",
            "Interval 30 (290000 steps performed)\n",
            "10000/10000 [==============================] - 2240s 224ms/step - reward: 0.0192\n",
            "11 episodes - episode_reward: 15.727 [9.000, 22.000] - loss: 0.022 - mae: 3.655 - mean_q: 4.403 - mean_eps: 0.100 - ale.lives: 2.034\n",
            "\n",
            "Interval 31 (300000 steps performed)\n",
            "10000/10000 [==============================] - 2249s 225ms/step - reward: 0.0204\n",
            "12 episodes - episode_reward: 17.250 [9.000, 30.000] - loss: 0.023 - mae: 3.669 - mean_q: 4.419 - mean_eps: 0.100 - ale.lives: 2.247\n",
            "\n",
            "Interval 32 (310000 steps performed)\n",
            "10000/10000 [==============================] - 2426s 243ms/step - reward: 0.0188\n",
            "9 episodes - episode_reward: 19.778 [11.000, 32.000] - loss: 0.023 - mae: 3.627 - mean_q: 4.367 - mean_eps: 0.100 - ale.lives: 1.965\n",
            "\n",
            "Interval 33 (320000 steps performed)\n",
            "10000/10000 [==============================] - 3030s 303ms/step - reward: 0.0183\n",
            "12 episodes - episode_reward: 16.833 [5.000, 27.000] - loss: 0.025 - mae: 3.631 - mean_q: 4.373 - mean_eps: 0.100 - ale.lives: 1.897\n",
            "\n",
            "Interval 34 (330000 steps performed)\n",
            "10000/10000 [==============================] - 2490s 249ms/step - reward: 0.0185\n",
            "12 episodes - episode_reward: 15.083 [7.000, 30.000] - loss: 0.024 - mae: 3.669 - mean_q: 4.418 - mean_eps: 0.100 - ale.lives: 1.988\n",
            "\n",
            "Interval 35 (340000 steps performed)\n",
            "10000/10000 [==============================] - 2503s 250ms/step - reward: 0.0195\n",
            "12 episodes - episode_reward: 17.000 [4.000, 30.000] - loss: 0.024 - mae: 3.668 - mean_q: 4.417 - mean_eps: 0.100 - ale.lives: 2.167\n",
            "\n",
            "Interval 36 (350000 steps performed)\n",
            "10000/10000 [==============================] - 2499s 250ms/step - reward: 0.0196\n",
            "11 episodes - episode_reward: 15.455 [3.000, 27.000] - loss: 0.023 - mae: 3.651 - mean_q: 4.395 - mean_eps: 0.100 - ale.lives: 1.991\n",
            "\n",
            "Interval 37 (360000 steps performed)\n",
            "10000/10000 [==============================] - 2539s 254ms/step - reward: 0.0162\n",
            "15 episodes - episode_reward: 12.533 [1.000, 31.000] - loss: 0.022 - mae: 3.583 - mean_q: 4.314 - mean_eps: 0.100 - ale.lives: 1.991\n",
            "\n",
            "Interval 38 (370000 steps performed)\n",
            "10000/10000 [==============================] - 2564s 256ms/step - reward: 0.0167\n",
            "12 episodes - episode_reward: 13.417 [3.000, 26.000] - loss: 0.022 - mae: 3.537 - mean_q: 4.258 - mean_eps: 0.100 - ale.lives: 2.009\n",
            "\n",
            "Interval 39 (380000 steps performed)\n",
            "10000/10000 [==============================] - 2607s 261ms/step - reward: 0.0195\n",
            "12 episodes - episode_reward: 15.583 [9.000, 24.000] - loss: 0.023 - mae: 3.534 - mean_q: 4.256 - mean_eps: 0.100 - ale.lives: 2.182\n",
            "\n",
            "Interval 40 (390000 steps performed)\n",
            "10000/10000 [==============================] - 2634s 263ms/step - reward: 0.0178\n",
            "12 episodes - episode_reward: 15.500 [8.000, 24.000] - loss: 0.023 - mae: 3.568 - mean_q: 4.296 - mean_eps: 0.100 - ale.lives: 2.133\n",
            "\n",
            "Interval 41 (400000 steps performed)\n",
            "10000/10000 [==============================] - 2657s 266ms/step - reward: 0.0178\n",
            "12 episodes - episode_reward: 14.750 [5.000, 24.000] - loss: 0.023 - mae: 3.553 - mean_q: 4.279 - mean_eps: 0.100 - ale.lives: 2.142\n",
            "\n",
            "Interval 42 (410000 steps performed)\n",
            "10000/10000 [==============================] - 2699s 270ms/step - reward: 0.0191\n",
            "11 episodes - episode_reward: 17.545 [7.000, 24.000] - loss: 0.022 - mae: 3.564 - mean_q: 4.291 - mean_eps: 0.100 - ale.lives: 2.005\n",
            "\n",
            "Interval 43 (420000 steps performed)\n",
            "10000/10000 [==============================] - 2722s 272ms/step - reward: 0.0182\n",
            "12 episodes - episode_reward: 15.083 [8.000, 20.000] - loss: 0.022 - mae: 3.540 - mean_q: 4.262 - mean_eps: 0.100 - ale.lives: 2.107\n",
            "\n",
            "Interval 44 (430000 steps performed)\n",
            "10000/10000 [==============================] - 2742s 274ms/step - reward: 0.0171\n",
            "11 episodes - episode_reward: 15.182 [7.000, 28.000] - loss: 0.023 - mae: 3.578 - mean_q: 4.308 - mean_eps: 0.100 - ale.lives: 1.883\n",
            "\n",
            "Interval 45 (440000 steps performed)\n",
            "10000/10000 [==============================] - 2962s 296ms/step - reward: 0.0190\n",
            "12 episodes - episode_reward: 16.167 [3.000, 24.000] - loss: 0.023 - mae: 3.618 - mean_q: 4.356 - mean_eps: 0.100 - ale.lives: 1.998\n",
            "\n",
            "Interval 46 (450000 steps performed)\n",
            "10000/10000 [==============================] - 2777s 278ms/step - reward: 0.0174\n",
            "13 episodes - episode_reward: 13.846 [6.000, 24.000] - loss: 0.022 - mae: 3.603 - mean_q: 4.337 - mean_eps: 0.100 - ale.lives: 2.074\n",
            "\n",
            "Interval 47 (460000 steps performed)\n",
            "10000/10000 [==============================] - 2788s 279ms/step - reward: 0.0187\n",
            "12 episodes - episode_reward: 15.250 [8.000, 21.000] - loss: 0.022 - mae: 3.566 - mean_q: 4.293 - mean_eps: 0.100 - ale.lives: 2.044\n",
            "\n",
            "Interval 48 (470000 steps performed)\n",
            "10000/10000 [==============================] - 2865s 286ms/step - reward: 0.0168\n",
            "14 episodes - episode_reward: 12.000 [7.000, 20.000] - loss: 0.022 - mae: 3.613 - mean_q: 4.351 - mean_eps: 0.100 - ale.lives: 1.966\n",
            "\n",
            "Interval 49 (480000 steps performed)\n",
            "10000/10000 [==============================] - 2862s 286ms/step - reward: 0.0198\n",
            "12 episodes - episode_reward: 16.250 [9.000, 26.000] - loss: 0.022 - mae: 3.560 - mean_q: 4.286 - mean_eps: 0.100 - ale.lives: 2.051\n",
            "\n",
            "Interval 50 (490000 steps performed)\n",
            "10000/10000 [==============================] - 2880s 288ms/step - reward: 0.0201\n",
            "12 episodes - episode_reward: 15.833 [6.000, 25.000] - loss: 0.022 - mae: 3.552 - mean_q: 4.277 - mean_eps: 0.100 - ale.lives: 2.097\n",
            "\n",
            "Interval 51 (500000 steps performed)\n",
            "10000/10000 [==============================] - 2944s 294ms/step - reward: 0.0201\n",
            "12 episodes - episode_reward: 17.667 [7.000, 28.000] - loss: 0.023 - mae: 3.597 - mean_q: 4.330 - mean_eps: 0.100 - ale.lives: 2.201\n",
            "\n",
            "Interval 52 (510000 steps performed)\n",
            "10000/10000 [==============================] - 2942s 294ms/step - reward: 0.0176\n",
            "12 episodes - episode_reward: 14.750 [8.000, 23.000] - loss: 0.023 - mae: 3.602 - mean_q: 4.336 - mean_eps: 0.100 - ale.lives: 2.018\n",
            "\n",
            "Interval 53 (520000 steps performed)\n",
            "10000/10000 [==============================] - 3065s 307ms/step - reward: 0.0177\n",
            "11 episodes - episode_reward: 16.182 [7.000, 27.000] - loss: 0.022 - mae: 3.575 - mean_q: 4.304 - mean_eps: 0.100 - ale.lives: 1.992\n",
            "\n",
            "Interval 54 (530000 steps performed)\n",
            "10000/10000 [==============================] - 2934s 293ms/step - reward: 0.0192\n",
            "10 episodes - episode_reward: 17.000 [7.000, 29.000] - loss: 0.022 - mae: 3.571 - mean_q: 4.299 - mean_eps: 0.100 - ale.lives: 1.928\n",
            "\n",
            "Interval 55 (540000 steps performed)\n",
            "10000/10000 [==============================] - 2975s 298ms/step - reward: 0.0178\n",
            "15 episodes - episode_reward: 13.533 [1.000, 30.000] - loss: 0.022 - mae: 3.570 - mean_q: 4.298 - mean_eps: 0.100 - ale.lives: 2.099\n",
            "\n",
            "Interval 56 (550000 steps performed)\n",
            "10000/10000 [==============================] - 3169s 317ms/step - reward: 0.0195\n",
            "10 episodes - episode_reward: 18.500 [12.000, 25.000] - loss: 0.024 - mae: 3.573 - mean_q: 4.302 - mean_eps: 0.100 - ale.lives: 1.966\n",
            "\n",
            "Interval 57 (560000 steps performed)\n",
            "10000/10000 [==============================] - 3125s 312ms/step - reward: 0.0173\n",
            "15 episodes - episode_reward: 12.467 [5.000, 28.000] - loss: 0.025 - mae: 3.667 - mean_q: 4.416 - mean_eps: 0.100 - ale.lives: 1.937\n",
            "\n",
            "Interval 58 (570000 steps performed)\n",
            "10000/10000 [==============================] - 3131s 313ms/step - reward: 0.0178\n",
            "12 episodes - episode_reward: 14.333 [7.000, 27.000] - loss: 0.024 - mae: 3.671 - mean_q: 4.420 - mean_eps: 0.100 - ale.lives: 1.905\n",
            "\n",
            "Interval 59 (580000 steps performed)\n",
            "10000/10000 [==============================] - 3096s 310ms/step - reward: 0.0189\n",
            "12 episodes - episode_reward: 15.833 [9.000, 22.000] - loss: 0.025 - mae: 3.674 - mean_q: 4.423 - mean_eps: 0.100 - ale.lives: 2.051\n",
            "\n",
            "Interval 60 (590000 steps performed)\n",
            "10000/10000 [==============================] - 3082s 308ms/step - reward: 0.0186\n",
            "12 episodes - episode_reward: 15.167 [5.000, 29.000] - loss: 0.024 - mae: 3.652 - mean_q: 4.398 - mean_eps: 0.100 - ale.lives: 1.956\n",
            "\n",
            "Interval 61 (600000 steps performed)\n",
            "10000/10000 [==============================] - 3234s 323ms/step - reward: 0.0178\n",
            "10 episodes - episode_reward: 18.400 [12.000, 24.000] - loss: 0.025 - mae: 3.675 - mean_q: 4.425 - mean_eps: 0.100 - ale.lives: 2.003\n",
            "\n",
            "Interval 62 (610000 steps performed)\n",
            "10000/10000 [==============================] - 3266s 327ms/step - reward: 0.0191\n",
            "14 episodes - episode_reward: 13.500 [5.000, 25.000] - loss: 0.024 - mae: 3.649 - mean_q: 4.393 - mean_eps: 0.100 - ale.lives: 1.811\n",
            "\n",
            "Interval 63 (620000 steps performed)\n",
            "10000/10000 [==============================] - 4273s 427ms/step - reward: 0.0191\n",
            "12 episodes - episode_reward: 16.167 [4.000, 26.000] - loss: 0.025 - mae: 3.678 - mean_q: 4.429 - mean_eps: 0.100 - ale.lives: 2.019\n",
            "\n",
            "Interval 64 (630000 steps performed)\n",
            "10000/10000 [==============================] - 3526s 353ms/step - reward: 0.0187\n",
            "13 episodes - episode_reward: 13.846 [7.000, 24.000] - loss: 0.025 - mae: 3.706 - mean_q: 4.461 - mean_eps: 0.100 - ale.lives: 2.007\n",
            "\n",
            "Interval 65 (640000 steps performed)\n",
            "10000/10000 [==============================] - 3584s 358ms/step - reward: 0.0205\n",
            "11 episodes - episode_reward: 19.000 [8.000, 26.000] - loss: 0.024 - mae: 3.669 - mean_q: 4.416 - mean_eps: 0.100 - ale.lives: 2.004\n",
            "\n",
            "Interval 66 (650000 steps performed)\n",
            "10000/10000 [==============================] - 3621s 362ms/step - reward: 0.0181\n",
            "12 episodes - episode_reward: 14.250 [4.000, 26.000] - loss: 0.025 - mae: 3.660 - mean_q: 4.407 - mean_eps: 0.100 - ale.lives: 1.954\n",
            "\n",
            "Interval 67 (660000 steps performed)\n",
            "10000/10000 [==============================] - 3648s 365ms/step - reward: 0.0179\n",
            "14 episodes - episode_reward: 13.714 [5.000, 22.000] - loss: 0.025 - mae: 3.678 - mean_q: 4.427 - mean_eps: 0.100 - ale.lives: 2.132\n",
            "\n",
            "Interval 68 (670000 steps performed)\n",
            "10000/10000 [==============================] - 3689s 369ms/step - reward: 0.0189\n",
            "12 episodes - episode_reward: 15.750 [9.000, 24.000] - loss: 0.024 - mae: 3.613 - mean_q: 4.350 - mean_eps: 0.100 - ale.lives: 2.101\n",
            "\n",
            "Interval 69 (680000 steps performed)\n",
            "10000/10000 [==============================] - 3715s 371ms/step - reward: 0.0180\n",
            "14 episodes - episode_reward: 13.071 [2.000, 27.000] - loss: 0.024 - mae: 3.623 - mean_q: 4.361 - mean_eps: 0.100 - ale.lives: 1.893\n",
            "\n",
            "Interval 70 (690000 steps performed)\n",
            "10000/10000 [==============================] - 3730s 373ms/step - reward: 0.0187\n",
            "11 episodes - episode_reward: 15.091 [7.000, 28.000] - loss: 0.025 - mae: 3.680 - mean_q: 4.430 - mean_eps: 0.100 - ale.lives: 2.076\n",
            "\n",
            "Interval 71 (700000 steps performed)\n",
            "10000/10000 [==============================] - 3689s 369ms/step - reward: 0.0160\n",
            "13 episodes - episode_reward: 12.769 [4.000, 22.000] - loss: 0.024 - mae: 3.665 - mean_q: 4.411 - mean_eps: 0.100 - ale.lives: 2.031\n",
            "\n",
            "Interval 72 (710000 steps performed)\n",
            "10000/10000 [==============================] - 3621s 362ms/step - reward: 0.0179\n",
            "10 episodes - episode_reward: 18.500 [9.000, 28.000] - loss: 0.024 - mae: 3.623 - mean_q: 4.361 - mean_eps: 0.100 - ale.lives: 1.873\n",
            "\n",
            "Interval 73 (720000 steps performed)\n",
            "10000/10000 [==============================] - 3994s 399ms/step - reward: 0.0195\n",
            "13 episodes - episode_reward: 15.615 [9.000, 21.000] - loss: 0.025 - mae: 3.625 - mean_q: 4.364 - mean_eps: 0.100 - ale.lives: 2.092\n",
            "\n",
            "Interval 74 (730000 steps performed)\n",
            "10000/10000 [==============================] - 4029s 403ms/step - reward: 0.0196\n",
            "12 episodes - episode_reward: 15.167 [7.000, 29.000] - loss: 0.024 - mae: 3.619 - mean_q: 4.356 - mean_eps: 0.100 - ale.lives: 1.999\n",
            "\n",
            "Interval 75 (740000 steps performed)\n",
            "10000/10000 [==============================] - 4046s 405ms/step - reward: 0.0194\n",
            "done, took 186660.666 seconds\n"
          ]
        }
      ],
      "source": [
        "dqn.fit(env, callbacks=callbacks, nb_steps=750000, log_interval=10000, visualize=False)\n",
        "\n",
        "dqn.save_weights(weights_filename, overwrite=True)"
      ]
    },
    {
      "cell_type": "code",
      "execution_count": 18,
      "metadata": {},
      "outputs": [
        {
          "name": "stdout",
          "output_type": "stream",
          "text": [
            "Testing for 10 episodes ...\n",
            "Episode 1: reward: 6.000, steps: 568\n",
            "Episode 2: reward: 21.000, steps: 846\n",
            "Episode 3: reward: 14.000, steps: 904\n",
            "Episode 4: reward: 17.000, steps: 1220\n",
            "Episode 5: reward: 13.000, steps: 705\n",
            "Episode 6: reward: 11.000, steps: 680\n",
            "Episode 7: reward: 14.000, steps: 935\n",
            "Episode 8: reward: 23.000, steps: 1079\n",
            "Episode 9: reward: 16.000, steps: 940\n",
            "Episode 10: reward: 15.000, steps: 899\n"
          ]
        },
        {
          "data": {
            "text/plain": [
              "<tensorflow.python.keras.callbacks.History at 0x20fa7486040>"
            ]
          },
          "execution_count": 18,
          "metadata": {},
          "output_type": "execute_result"
        },
        {
          "ename": "",
          "evalue": "",
          "output_type": "error",
          "traceback": [
            "\u001b[1;31mThe Kernel crashed while executing code in the current cell or a previous cell. \n",
            "\u001b[1;31mPlease review the code in the cell(s) to identify a possible cause of the failure. \n",
            "\u001b[1;31mClick <a href='https://aka.ms/vscodeJupyterKernelCrash'>here</a> for more info. \n",
            "\u001b[1;31mView Jupyter <a href='command:jupyter.viewOutput'>log</a> for further details."
          ]
        }
      ],
      "source": [
        "dqn.load_weights(weights_filename)\n",
        "dqn.test(env, nb_episodes=10, visualize=True)"
      ]
    },
    {
      "cell_type": "markdown",
      "metadata": {
        "id": "-NAlu8b1Gb2b"
      },
      "source": [
        "3. Justificación de los parámetros seleccionados y de los resultados obtenidos"
      ]
    },
    {
      "cell_type": "markdown",
      "metadata": {
        "id": "ANFQiicXK3sO"
      },
      "source": [
        "---"
      ]
    }
  ],
  "metadata": {
    "colab": {
      "provenance": []
    },
    "kernelspec": {
      "display_name": "Python 3",
      "language": "python",
      "name": "python3"
    },
    "language_info": {
      "codemirror_mode": {
        "name": "ipython",
        "version": 3
      },
      "file_extension": ".py",
      "mimetype": "text/x-python",
      "name": "python",
      "nbconvert_exporter": "python",
      "pygments_lexer": "ipython3",
      "version": "3.8.19"
    }
  },
  "nbformat": 4,
  "nbformat_minor": 0
}
