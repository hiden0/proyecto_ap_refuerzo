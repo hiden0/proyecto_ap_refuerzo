{
  "cells": [
    {
      "cell_type": "markdown",
      "metadata": {},
      "source": [
        "# Actividad - Proyecto práctico"
      ]
    },
    {
      "cell_type": "markdown",
      "metadata": {},
      "source": [
        "El proyecto ha sido desarrollado por:\n",
        "\n",
        "*   **Alumno** 1: Jorge Aliaga \n",
        "*   **Alumno 2**: Lois Seijo\n",
        "*   **Alumno 3**: Javier Berjoyo\n",
        "*   **Alumno 4**: Leasly García"
      ]
    },
    {
      "cell_type": "markdown",
      "metadata": {},
      "source": [
        "### Índice de contenidos\n",
        "\n",
        "- [**1. Preparación del entorno**](#ap1)\n",
        "\n",
        "- [**2. Space Invaders**](#ap2)\n",
        "\n",
        "- [**3. Desarrollo del proyecto**](#ap3)\n",
        "    - 3.1. [Implementación de la red neuronal](#ap3_1)\n",
        "        - 3.1.1. [DQN](#ap_3_3_1)\n",
        "        - 3.1.2. [Double DQN](#ap_3_3_2)\n",
        "\t    - 3.1.3. [Duel DQN](#ap_3_3_3)\n",
        "       \n",
        "    - 3.2. [Implementación de la solución DQN](#ap3_2)\n",
        "\n",
        "    - 3.3. [Análisis](#ap3_3)"
      ]
    },
    {
      "cell_type": "markdown",
      "metadata": {},
      "source": [
        "---\n",
        "## 1. Preparación de entorno"
      ]
    },
    {
      "cell_type": "markdown",
      "metadata": {},
      "source": [
        "Localizar entorno de trabajo: Google colab o local:"
      ]
    },
    {
      "cell_type": "code",
      "execution_count": 1,
      "metadata": {},
      "outputs": [],
      "source": [
        "# ATENCIÓN!! Modificar ruta relativa a la práctica si es distinta (drive_root)\n",
        "mount=''\n",
        "drive_root = mount + \"\"\n",
        "\n",
        "try:\n",
        "  from google.colab import drive\n",
        "  IN_COLAB=True\n",
        "except:\n",
        "  IN_COLAB=False"
      ]
    },
    {
      "cell_type": "markdown",
      "metadata": {},
      "source": [
        "Montar carpeta de datos local (solo Colab):"
      ]
    },
    {
      "cell_type": "code",
      "execution_count": 2,
      "metadata": {},
      "outputs": [
        {
          "name": "stdout",
          "output_type": "stream",
          "text": [
            "Archivos en el directorio: \n",
            "['.git', '.gitignore', 'checkpoint', 'dqn2_SpaceInvaders-v0_log.json', 'dqn2_SpaceInvaders-v0_weights.h5f.data-00000-of-00001', 'dqn2_SpaceInvaders-v0_weights.h5f.index', 'dqn2_SpaceInvaders-v0_weights_250000.h5f.data-00000-of-00001', 'dqn2_SpaceInvaders-v0_weights_250000.h5f.index', 'dqn2_SpaceInvaders-v0_weights_500000.h5f.data-00000-of-00001', 'dqn2_SpaceInvaders-v0_weights_500000.h5f.index', 'dqn2_SpaceInvaders-v0_weights_750000.h5f.data-00000-of-00001', 'dqn2_SpaceInvaders-v0_weights_750000.h5f.index', 'dqn3_SpaceInvaders-v0_log.json', 'dqn3_SpaceInvaders-v0_weights.h5f.data-00000-of-00001', 'dqn3_SpaceInvaders-v0_weights.h5f.index', 'dqn3_SpaceInvaders-v0_weights_250000.h5f.data-00000-of-00001', 'dqn3_SpaceInvaders-v0_weights_250000.h5f.index', 'dqn3_SpaceInvaders-v0_weights_500000.h5f.data-00000-of-00001', 'dqn3_SpaceInvaders-v0_weights_500000.h5f.index', 'dqn3_SpaceInvaders-v0_weights_750000.h5f.data-00000-of-00001', 'dqn3_SpaceInvaders-v0_weights_750000.h5f.index', 'dqn_SpaceInvaders-v0_log.json', 'dqn_SpaceInvaders-v0_weights.h5f.data-00000-of-00001', 'dqn_SpaceInvaders-v0_weights.h5f.index', 'dqn_SpaceInvaders-v0_weights_250000.h5f.data-00000-of-00001', 'dqn_SpaceInvaders-v0_weights_250000.h5f.index', 'dqn_SpaceInvaders-v0_weights_500000.h5f.data-00000-of-00001', 'dqn_SpaceInvaders-v0_weights_500000.h5f.index', 'Install Gym_240608_131148.pdf', 'intro_gym_VZ_colab.ipynb', 'Proyecto_practico_lois.ipynb', 'Proyecto_práctico_colab.ipynb', 'Proyecto_práctico_local.ipynb', 'Proyecto_práctico_local_v2.ipynb', 'Proyecto_práctico_local_v3.ipynb', 'README.md']\n"
          ]
        }
      ],
      "source": [
        "# Switch to the directory on the Google Drive that you want to use\n",
        "import os\n",
        "if IN_COLAB:\n",
        "  print(\"We're running Colab\")\n",
        "\n",
        "  if IN_COLAB:\n",
        "    # Mount the Google Drive at mount\n",
        "    print(\"Colab: mounting Google drive on \", mount)\n",
        "\n",
        "    drive.mount(mount)\n",
        "\n",
        "    # Create drive_root if it doesn't exist\n",
        "    create_drive_root = True\n",
        "    if create_drive_root:\n",
        "      print(\"\\nColab: making sure \", drive_root, \" exists.\")\n",
        "      os.makedirs(drive_root, exist_ok=True)\n",
        "\n",
        "    # Change to the directory\n",
        "    print(\"\\nColab: Changing directory to \", drive_root)\n",
        "    %cd $drive_root\n",
        "# Verify we're in the correct working directory\n",
        "%pwd\n",
        "print(\"Archivos en el directorio: \")\n",
        "print(os.listdir())"
      ]
    },
    {
      "cell_type": "markdown",
      "metadata": {},
      "source": [
        "Instalar librerías necesarias:"
      ]
    },
    {
      "cell_type": "code",
      "execution_count": 3,
      "metadata": {},
      "outputs": [
        {
          "name": "stdout",
          "output_type": "stream",
          "text": [
            "Requirement already satisfied: gym==0.17.3 in c:\\users\\javie\\anaconda3\\envs\\gym\\lib\\site-packages (0.17.3)\n",
            "Requirement already satisfied: scipy in c:\\users\\javie\\anaconda3\\envs\\gym\\lib\\site-packages (from gym==0.17.3) (1.10.1)\n",
            "Requirement already satisfied: numpy>=1.10.4 in c:\\users\\javie\\anaconda3\\envs\\gym\\lib\\site-packages (from gym==0.17.3) (1.19.5)\n",
            "Requirement already satisfied: pyglet<=1.5.0,>=1.4.0 in c:\\users\\javie\\anaconda3\\envs\\gym\\lib\\site-packages (from gym==0.17.3) (1.5.0)\n",
            "Requirement already satisfied: cloudpickle<1.7.0,>=1.2.0 in c:\\users\\javie\\anaconda3\\envs\\gym\\lib\\site-packages (from gym==0.17.3) (1.6.0)\n",
            "Requirement already satisfied: future in c:\\users\\javie\\anaconda3\\envs\\gym\\lib\\site-packages (from pyglet<=1.5.0,>=1.4.0->gym==0.17.3) (1.0.0)\n",
            "Note: you may need to restart the kernel to use updated packages.\n",
            "^C\n",
            "Note: you may need to restart the kernel to use updated packages.\n",
            "Requirement already satisfied: pyglet==1.5.0 in c:\\users\\javie\\anaconda3\\envs\\gym\\lib\\site-packages (1.5.0)\n",
            "Requirement already satisfied: future in c:\\users\\javie\\anaconda3\\envs\\gym\\lib\\site-packages (from pyglet==1.5.0) (1.0.0)\n",
            "Note: you may need to restart the kernel to use updated packages.\n",
            "^C\n",
            "Note: you may need to restart the kernel to use updated packages.\n",
            "Collecting git+https://github.com/Kojoley/atari-py.git\n",
            "  Cloning https://github.com/Kojoley/atari-py.git to c:\\users\\javie\\appdata\\local\\temp\\pip-req-build-1iw2inzx\n",
            "  Resolved https://github.com/Kojoley/atari-py.git to commit 86a1e05c0a95e9e6233c3a413521fdb34ca8a089\n",
            "  Preparing metadata (setup.py): started\n",
            "  Preparing metadata (setup.py): finished with status 'done'\n",
            "Requirement already satisfied: numpy in c:\\users\\javie\\anaconda3\\envs\\gym\\lib\\site-packages (from atari-py==1.2.2) (1.19.5)\n"
          ]
        },
        {
          "name": "stderr",
          "output_type": "stream",
          "text": [
            "  Running command git clone --filter=blob:none --quiet https://github.com/Kojoley/atari-py.git 'C:\\Users\\javie\\AppData\\Local\\Temp\\pip-req-build-1iw2inzx'\n"
          ]
        },
        {
          "name": "stdout",
          "output_type": "stream",
          "text": [
            "Requirement already satisfied: h5py==3.1.0 in c:\\users\\javie\\anaconda3\\envs\\gym\\lib\\site-packages (3.1.0)\n",
            "Requirement already satisfied: numpy>=1.17.5 in c:\\users\\javie\\anaconda3\\envs\\gym\\lib\\site-packages (from h5py==3.1.0) (1.19.5)\n",
            "Requirement already satisfied: Pillow==9.5.0 in c:\\users\\javie\\anaconda3\\envs\\gym\\lib\\site-packages (9.5.0)\n",
            "Note: you may need to restart the kernel to use updated packages.\n"
          ]
        }
      ],
      "source": [
        "if IN_COLAB:\n",
        "    %pip install gym==0.17.3\n",
        "    %pip install git+https://github.com/Kojoley/atari-py.git\n",
        "    %pip install keras-rl2==1.0.5\n",
        "    %pip install tensorflow==2.8\n",
        "else:\n",
        "    %pip install gym==0.17.3\n",
        "    %pip install git+https://github.com/Kojoley/atari-py.git\n",
        "    %pip install pyglet==1.5.0\n",
        "    %pip install h5py==3.1.0\n",
        "    %pip install Pillow==9.5.0\n",
        "    %pip install keras-rl2==1.0.5\n",
        "    %pip install Keras==2.2.4\n",
        "    %pip install tensorflow==2.5.3\n",
        "    %pip install torch==2.0.1\n",
        "    %pip install agents==1.4.0"
      ]
    },
    {
      "cell_type": "markdown",
      "metadata": {},
      "source": [
        "---\n",
        "## 2. Space Invaders\n"
      ]
    },
    {
      "cell_type": "markdown",
      "metadata": {},
      "source": [
        "El objetivo de este proyecto es desarrollar un algoritmo, que mediante técnicas de aprendizaje por refuerzo, sea capaz de jugar en conocido juego **Space Invaders**. Para ello:\n",
        "\n",
        "- El entorno de trabajo elegido será SpaceInvaders-v0.\n",
        "- El algoritmo utilizado es DQN.\n",
        "\n",
        "Este proyecto práctico consta de tres partes:\n",
        "\n",
        "1. Implementar la red neuronal que se usará en la solución\n",
        "2. Implementar las distintas piezas de la solución DQN\n",
        "3. ustificar la respuesta en relación a los resultados obtenido"
      ]
    },
    {
      "cell_type": "markdown",
      "metadata": {},
      "source": [
        "![Space Invaders][./imagenes/preprocessing.jpg]"
      ]
    },
    {
      "cell_type": "markdown",
      "metadata": {},
      "source": [
        "---\n",
        "## 3. Desarrollo del proyecto"
      ]
    },
    {
      "cell_type": "markdown",
      "metadata": {
        "id": "duPmUNOVGb2a"
      },
      "source": [
        "#### Importar librerías"
      ]
    },
    {
      "cell_type": "code",
      "execution_count": 1,
      "metadata": {
        "id": "j3eRhgI-Gb2a"
      },
      "outputs": [
        {
          "name": "stderr",
          "output_type": "stream",
          "text": [
            "c:\\Users\\javie\\anaconda3\\envs\\gym\\lib\\site-packages\\numpy\\_distributor_init.py:30: UserWarning: loaded more than 1 DLL from .libs:\n",
            "c:\\Users\\javie\\anaconda3\\envs\\gym\\lib\\site-packages\\numpy\\.libs\\libopenblas.WCDJNK7YVMPZQ2ME2ZZHJJRJ3JIKNDB7.gfortran-win_amd64.dll\n",
            "c:\\Users\\javie\\anaconda3\\envs\\gym\\lib\\site-packages\\numpy\\.libs\\libopenblas64__v0.3.21-gcc_10_3_0.dll\n",
            "  warnings.warn(\"loaded more than 1 DLL from .libs:\"\n"
          ]
        }
      ],
      "source": [
        "from __future__ import division\n",
        "\n",
        "from PIL import Image\n",
        "import numpy as np\n",
        "import gym\n",
        "\n",
        "from tensorflow.keras.models import Sequential, Model\n",
        "from tensorflow.keras.layers import Dense, Activation, Flatten, Convolution2D, Permute, Input, concatenate, Lambda\n",
        "from tensorflow.keras.optimizers import Adam\n",
        "import tensorflow.keras.backend as K\n",
        "\n",
        "from rl.agents.dqn import DQNAgent\n",
        "from rl.policy import LinearAnnealedPolicy, BoltzmannQPolicy, EpsGreedyQPolicy\n",
        "from rl.memory import SequentialMemory\n",
        "from rl.core import Processor\n",
        "from rl.callbacks import FileLogger, ModelIntervalCheckpoint"
      ]
    },
    {
      "cell_type": "markdown",
      "metadata": {},
      "source": [
        "#### Configuración base"
      ]
    },
    {
      "cell_type": "markdown",
      "metadata": {},
      "source": [
        "En primer lugar, se crea el environment asociado al Space Invaders. Esto es posible gracias a la librería gymnasium. Tras ello, se asocia una aletoriedad al mismo. Por otro lado, se define el tamaño de la imagen de entrada y se obtienen las el número de accciones del entorno."
      ]
    },
    {
      "cell_type": "code",
      "execution_count": null,
      "metadata": {},
      "outputs": [],
      "source": [
        "INPUT_SHAPE = (84, 84)\n",
        "WINDOW_LENGTH = 4\n",
        "\n",
        "env_name = 'SpaceInvaders-v0'\n",
        "env = gym.make(env_name)\n",
        "\n",
        "np.random.seed(123)\n",
        "env.seed(123)\n",
        "nb_actions = env.action_space.n"
      ]
    },
    {
      "cell_type": "code",
      "execution_count": null,
      "metadata": {},
      "outputs": [],
      "source": [
        "print(\"Numero de acciones disponibles: \" + str(nb_actions))"
      ]
    },
    {
      "cell_type": "code",
      "execution_count": null,
      "metadata": {},
      "outputs": [],
      "source": [
        "print(\"Formato de las observaciones:\")\n",
        "env.observation_space"
      ]
    },
    {
      "cell_type": "markdown",
      "metadata": {},
      "source": [
        "Un espacio de soluciones de dimensiones (210, 160, 3) tiene un tamaño inmanejable. Se puede reducir ese espacio a un tamaño de 84 x 84 con una window length 4."
      ]
    },
    {
      "cell_type": "markdown",
      "metadata": {},
      "source": [
        "![Space Invaders](imagenes/space_invaders.gif)"
      ]
    },
    {
      "cell_type": "markdown",
      "metadata": {},
      "source": [
        "Creación de la clase asociada al preprocesado:"
      ]
    },
    {
      "cell_type": "code",
      "execution_count": null,
      "metadata": {},
      "outputs": [],
      "source": [
        "class AtariProcessor(Processor):\n",
        "    def process_observation(self, observation):\n",
        "        assert observation.ndim == 3  # (height, width, channel)\n",
        "        img = Image.fromarray(observation)\n",
        "        img = img.resize(INPUT_SHAPE).convert('L')\n",
        "        processed_observation = np.array(img)\n",
        "        assert processed_observation.shape == INPUT_SHAPE\n",
        "        return processed_observation.astype('uint8')\n",
        "\n",
        "    def process_state_batch(self, batch):\n",
        "        processed_batch = batch.astype('float32') / 255.\n",
        "        return processed_batch\n",
        "\n",
        "    def process_reward(self, reward):\n",
        "        return np.clip(reward, -1., 1.)"
      ]
    },
    {
      "cell_type": "markdown",
      "metadata": {},
      "source": [
        "## 3.1. Implementación de la red neuronal"
      ]
    },
    {
      "cell_type": "markdown",
      "metadata": {},
      "source": [
        "Antes de comentar que modelos se han utilizado, es necesario explicar como funciona el modelo básico de Deep Q Networks:\n",
        "\n",
        "Para entender este modelo hace falta explicar una serie de conceptos:\n",
        "\n",
        "### Recompesas a futuro y Discounted Rewards\n",
        "\n",
        "En el aprendizaje por refuerzo, el objetivo del agente es maximizar la recompensa total a lo largo del tiempo. Sin embargo, no todas las recompensas son iguales. Las recompensas inmediatas suelen ser más valiosas que las recompensas futuras. Para darle un mayor peso a las recompensas más cercanas temporalmente, se introduce el concepto de recompensas descontadas/Discounted Rewards.\n",
        "\n",
        "La recompensa total descontada en el tiempo t se define como:\n",
        "\n",
        "Gt = ∑(γ^k * R(t+k))\n",
        "\n",
        "Donde:\n",
        "\n",
        "· Rt+k es la recompensa recibida en el tiempo t+k.\n",
        "· γ es el factor de descuento, un valor entre 0 y 1. Un γ cercano a 1 indica que las recompensas futuras son casi tan valiosas como las inmediatas, mientras que un valor cercano a 0 indica que las recompensas inmediatas son mucho más importantes.\n",
        "\n",
        "### Función Valor (Función V)\n",
        "\n",
        "La función de valor/value, V(s), estima el valor esperado a largo plazo de un estado s. En otras palabras, representa la recompensa total descontada que se espera obtener comenzando desde el estado s y siguiendo una política específica π. Se entender como: \"¿Cómo de bueno es el estado actual?\"\n",
        "\n",
        "V(s) = Eπ[Gt | st = s]\n",
        "\n",
        "Donde:\n",
        "\n",
        "Eπ denota la expectativa bajo la política π.\n",
        "Gt es la recompensa total descontada, como se definió anteriormente.\n",
        "st = s indica que el agente se encuentra en el estado s.\n",
        "\n",
        "### Función Calidad (Función Q)\n",
        "\n",
        "La función acción-valor, calidad/quality o función Q, Q(s, a), estima el valor esperado de tomar una acción específica a en un estado s y seguir la política π después.\n",
        "\n",
        "Q(s, a) = Eπ[Gt | st = s, at = a]\n",
        "\n",
        "Esta función representa la calidad de tomar una acción particular en un estado particular, en base a las recompensas futuras esperadas.\n",
        "\n",
        "\n",
        "### Función de Pérdidas\n",
        "\n",
        "En Deep Q-Networks, se utiliza una red neuronal para aproximar la función Q. La función de pérdida se define para minimizar la diferencia entre el valor Q estimado por la red y el valor Q objetivo calculado con una target network y una versión antigua de la red.\n",
        "\n",
        "L(θ) = (y - Q(s, a; θ))^2\n",
        "\n",
        "Donde:\n",
        "\n",
        "y es el valor objetivo, que se puede escribir como Q(s', a'; θ').  Es el valor Q estimado para el siguiente estado s' usando una target network con parámetros antiguos θ'.\n",
        "\n",
        "La minimización de esta función de pérdida ajusta, mediante descenso del gradiente, los parámetros de la red neuronal para que la estimación de Q(s, a; θ) se acerque al valor de y."
      ]
    },
    {
      "cell_type": "markdown",
      "metadata": {},
      "source": [
        "Además se han implementado las siguientes arquitecturas que suponen una mejoría con respecto a la versión estándar:\n",
        "\n",
        "1.   Double DQN\n",
        "2.   Duel DQN\n",
        "\n",
        "Las funciones para la creación de las 3 arquitecturas se muestran a continuación:"
      ]
    },
    {
      "cell_type": "markdown",
      "metadata": {},
      "source": [
        "### 3.1.1. DQN"
      ]
    },
    {
      "cell_type": "code",
      "execution_count": null,
      "metadata": {},
      "outputs": [],
      "source": [
        "def construct_q_network(num_actions,dim=(4,84,84), loss='mse', optimizer=Adam(learning_rate=0.00001)):\n",
        "\n",
        "    # Usamos la misma que en el paper de DeepMind salvo el permute\n",
        "    model = Sequential()\n",
        "\n",
        "    # Crear un nuevo modelo secuencial con la capa permutada\n",
        "    model.add(Permute((3, 2, 1),input_shape=dim)) #IMPORTANTE \n",
        "    model.add(Convolution2D(32, (8, 8), strides=(4, 4)))\n",
        "    model.add(Activation('relu'))\n",
        "    model.add(Convolution2D(64, (4, 4), strides=(2, 2)))\n",
        "    model.add(Activation('relu'))\n",
        "    model.add(Convolution2D(64, (3, 3)))\n",
        "    model.add(Activation('relu'))\n",
        "    model.add(Flatten())\n",
        "    model.add(Dense(512))\n",
        "    model.add(Activation('relu'))\n",
        "    model.add(Dense(num_actions))\n",
        "    model.compile(loss=loss, optimizer=optimizer)\n",
        "\n",
        "    print(\"Successfully constructed networks.\")\n",
        "    \n",
        "    return model"
      ]
    },
    {
      "cell_type": "markdown",
      "metadata": {},
      "source": [
        "### 3.1.2. Double DQN"
      ]
    },
    {
      "cell_type": "code",
      "execution_count": null,
      "metadata": {},
      "outputs": [],
      "source": [
        "def construct_double_q_network(input_shape, num_actions, loss='mse', optimizer=Adam(lr=0.000001)):\n",
        "       \n",
        "        input_layer = Input(shape=input_shape)\n",
        "        permuted_layer = Permute((3, 2, 1))(input_layer)   #IMPORTANTE \n",
        "        conv1 = Convolution2D(32, (8, 8), strides=(4, 4), activation='relu')(permuted_layer)\n",
        "        conv2 = Convolution2D(64, (4, 4), strides=(2, 2), activation='relu')(conv1)\n",
        "        conv3 = Convolution2D(64, (3, 3), activation='relu')(conv2)\n",
        "        flatten = Flatten()(conv3)\n",
        "\n",
        "        fc1 = Dense(512)(flatten)\n",
        "        advantage = Dense(num_actions)(fc1)\n",
        "\n",
        "        fc2 = Dense(512)(flatten)\n",
        "        value = Dense(1)(fc2)\n",
        "\n",
        "        policy = concatenate([advantage, value], axis=-1)\n",
        "        #policy = Lambda(lambda x: x[:, :-1] - K.mean(x[:, :-1], axis=1, keepdims=True) + x[:, -1])(policy)\n",
        "        def custom_lambda(x):\n",
        "            adv = x[:, :-1]\n",
        "            val = x[:, -1:]\n",
        "            print(f\"adv shape: {adv.shape}, val shape: {val.shape}\")\n",
        "            return adv - K.mean(adv, axis=1, keepdims=True) + val\n",
        "\n",
        "        policy = Lambda(custom_lambda)(policy)\n",
        "\n",
        "\n",
        "        model = Model(inputs=input_layer, outputs=policy)\n",
        "        model.compile(loss=loss, optimizer=optimizer)\n",
        "\n",
        "\n",
        "        print(\"Successfully constructed networks.\")\n",
        "\n",
        "        return model"
      ]
    },
    {
      "cell_type": "markdown",
      "metadata": {},
      "source": [
        "### 3.1.3. Duel DQN"
      ]
    },
    {
      "cell_type": "code",
      "execution_count": null,
      "metadata": {},
      "outputs": [],
      "source": [
        "def construct_duel_q_network(input_shape, num_actions, loss='mse', optimizer=Adam(lr=0.000001)):\n",
        "    input_layer = Input(shape=input_shape)\n",
        "    print(K.image_data_format())\n",
        "    if K.image_data_format() == 'channels_last':\n",
        "    # (width, height, channels)\n",
        "        permuted_layer=Permute((2, 3, 1), input_shape=input_shape)(input_layer)\n",
        "    elif K.image_data_format() == 'channels_first':\n",
        "    # (channels, width, height)\n",
        "        permuted_layer=Permute((2, 3, 1), input_shape=input_shape)(input_layer)\n",
        "    else:\n",
        "        raise RuntimeError('Unknown image_dim_ordering.')\n",
        "    conv1 = Convolution2D(32, (8, 8), strides=(4, 4), activation='relu')(permuted_layer)\n",
        "    conv2 = Convolution2D(64, (4, 4), strides=(2, 2), activation='relu')(conv1)\n",
        "    conv3 = Convolution2D(64, (3, 3), activation='relu')(conv2)\n",
        "    flatten = Flatten()(conv3)\n",
        "\n",
        "    fc1 = Dense(512)(flatten)\n",
        "    advantage = Dense(num_actions)(fc1)\n",
        "\n",
        "    fc2 = Dense(512)(flatten)\n",
        "    value = Dense(1)(fc2)\n",
        "\n",
        "    policy = concatenate([advantage, value], axis=-1)\n",
        "    policy = Lambda(lambda x: x[:, :-1] - K.mean(x[:, :-1], axis=1, keepdims=True) + x[:, -1])(policy)\n",
        "\n",
        "    model = Model(inputs=input_layer, outputs=policy)\n",
        "    model.compile(loss=loss, optimizer=optimizer)\n",
        "\n",
        "    return model"
      ]
    },
    {
      "cell_type": "markdown",
      "metadata": {},
      "source": [
        "## 3.2. Implementación de la solución DQN\n",
        "\n",
        "Tamaño de la memoria para experience replay: 50000. Pensamos en utilizar un tamaño menor (10000), pero preferíamos tener un conjunto más grande y heterogéneo de experiencias. Usar más nos parecía excesivo porque estos entrenamientos ya eran suficientemente largos para un trabajo de estas dimensiones (18-24h).\n",
        "\n",
        "Policy: se ha decidido usar la Linear Annealed Policy reduciendo la epsilon desde 1 hasta 0.1 (en distintas cantidades de steps). Se escoge porque consideramos que es necesaria cierta cantidad de exploración inicial en el experimento para conseguir una mejor generalización en test o que el agente descubra nuevas estrategias de acciones a seguir que previamente no se consideraban. Además, Tras un pequeño entrenamiento de prueba realizado al principio de nuestro estudio sobre el proyecto en el que usamos una EpsGreedyQPolicy, se podía ver que la nave repetía los mismos patrones o similares. Por esto se decidió cambiar la policy para promover la exploración."
      ]
    },
    {
      "cell_type": "code",
      "execution_count": null,
      "metadata": {},
      "outputs": [],
      "source": [
        "memory = SequentialMemory(limit=50000, window_length=WINDOW_LENGTH)\n",
        "processor = AtariProcessor()\n",
        "policy =  LinearAnnealedPolicy(EpsGreedyQPolicy(), attr='eps', value_max=1., value_min=.1, value_test=.2, nb_steps=450000)"
      ]
    },
    {
      "cell_type": "code",
      "execution_count": null,
      "metadata": {},
      "outputs": [],
      "source": [
        "#Se creará una duel deep q network\n",
        "\n",
        "model = construct_q_network(dim=(4,84,84), num_actions=6, loss='mse')\n",
        "\n",
        "model.summary()\n",
        "\n",
        "dqn = DQNAgent(model=model, \n",
        "                nb_actions=nb_actions,\n",
        "                processor=processor,\n",
        "                memory=memory,\n",
        "                nb_steps_warmup=50000,\n",
        "                target_model_update=1e-2,\n",
        "                #enable_dueling_network=True, #Activamos el dueling para la duel deep q network \n",
        "                #dueling_type='avg', \n",
        "                policy=policy) \n",
        "\n",
        "dqn.compile(Adam(learning_rate=.00025), metrics=['mae'])"
      ]
    },
    {
      "cell_type": "markdown",
      "metadata": {},
      "source": [
        "## 3.3. Pruebas de entrenamiento del modelo\n",
        "Entrenamos durante 750000 steps y guardamos los pesos cada 250000. "
      ]
    },
    {
      "cell_type": "code",
      "execution_count": null,
      "metadata": {},
      "outputs": [],
      "source": [
        "# Training part\n",
        "weights_filename = 'dqn_{}_weights.h5f'.format(env_name)\n",
        "checkpoint_weights_filename = 'dqn_' + env_name + '_weights_{step}.h5f'\n",
        "log_filename = 'dqn_{}_log.json'.format(env_name)\n",
        "callbacks = [ModelIntervalCheckpoint(checkpoint_weights_filename, interval=250000)]\n",
        "callbacks += [FileLogger(log_filename, interval=100)]\n",
        "\n",
        "dqn.fit(env, callbacks=callbacks, nb_steps=750000, log_interval=10000, visualize=False)\n",
        "\n",
        "dqn.save_weights(weights_filename, overwrite=True)"
      ]
    },
    {
      "cell_type": "markdown",
      "metadata": {},
      "source": [
        "AQUI FALTARIA HABLAR DE QUE TODAS LAS PRUEBAS SSALIERON MAL . NO LLEGABAN A 20"
      ]
    },
    {
      "cell_type": "markdown",
      "metadata": {
        "id": "6_b3mzw8IzJP"
      },
      "source": [
        "---\n",
        "## **PARTE 4**. Solución final"
      ]
    },
    {
      "cell_type": "markdown",
      "metadata": {},
      "source": [
        "Finalmente, tras revisar las posibles soluciones al estancamiento del entrenamiento, se optó por crear un entorno que generara con cierta probabilidad las conocidas Sticky actions, las cuales ayudarían a mejorar la exploración, que se suponía uno de los principales problemas de nuestro entrenamiento."
      ]
    },
    {
      "cell_type": "markdown",
      "metadata": {},
      "source": [
        "Para ello, se sobreescribió el env básico para generar acciones pegajosas con cierta probabilidad:"
      ]
    },
    {
      "cell_type": "code",
      "execution_count": 2,
      "metadata": {},
      "outputs": [],
      "source": [
        "class StickyActionEnv(gym.Wrapper):\n",
        "    def __init__(self, env, sticky_prob=0.25):\n",
        "        super(StickyActionEnv, self).__init__(env)\n",
        "        self.sticky_prob = sticky_prob\n",
        "        self.last_action = None\n",
        "\n",
        "    def step(self, action):\n",
        "        if self.last_action is not None and np.random.rand() < self.sticky_prob:\n",
        "            action = self.last_action\n",
        "        self.last_action = action\n",
        "        obs, reward, done, info = self.env.step(action)\n",
        "        return obs, reward, done, info\n",
        "\n",
        "    def reset(self, **kwargs):\n",
        "        self.last_action = None\n",
        "        return self.env.reset(**kwargs)"
      ]
    },
    {
      "cell_type": "markdown",
      "metadata": {
        "id": "f4jgQjzoGb2a"
      },
      "source": [
        "#### Configuración base\n",
        "\n",
        "Se mantuvo la misma configuración base, pero añadiendo el sticky env con una probabilidad de 0.25 de realizar sticky actions"
      ]
    },
    {
      "cell_type": "code",
      "execution_count": 3,
      "metadata": {
        "id": "jwOE6I_KGb2a"
      },
      "outputs": [],
      "source": [
        "INPUT_SHAPE = (84, 84)\n",
        "WINDOW_LENGTH = 4\n",
        "IN_COLAB=False\n",
        "\n",
        "env_name = 'SpaceInvaders-v0'\n",
        "env = gym.make(env_name)\n",
        "sticky_env = StickyActionEnv(env, sticky_prob=0.25)\n",
        "np.random.seed(123)\n",
        "env.seed(123)\n",
        "nb_actions = env.action_space.n"
      ]
    },
    {
      "cell_type": "code",
      "execution_count": 4,
      "metadata": {
        "colab": {
          "base_uri": "https://localhost:8080/"
        },
        "id": "MKaHcYyhgZEa",
        "outputId": "644ca422-a7b4-4145-b848-4fa51a439d6b"
      },
      "outputs": [
        {
          "name": "stdout",
          "output_type": "stream",
          "text": [
            "Numero de acciones disponibles:6\n",
            "Formato de las observaciones:\n"
          ]
        },
        {
          "data": {
            "text/plain": [
              "Box(0, 255, (210, 160, 3), uint8)"
            ]
          },
          "execution_count": 4,
          "metadata": {},
          "output_type": "execute_result"
        }
      ],
      "source": [
        "print(\"Numero de acciones disponibles:\" + str(nb_actions))\n",
        "print(\"Formato de las observaciones:\")\n",
        "sticky_env.observation_space"
      ]
    },
    {
      "cell_type": "markdown",
      "metadata": {
        "id": "E-oag6zzn87v"
      },
      "source": [
        "Como red neuronal se utilizó la misma double q network, por falta de tiempo no se pudo probar este sticky env con la dual q network, lo cual habría sido tambien interesante."
      ]
    },
    {
      "cell_type": "code",
      "execution_count": 6,
      "metadata": {
        "colab": {
          "base_uri": "https://localhost:8080/"
        },
        "id": "foSlxWH1Gb2b",
        "outputId": "fa54614b-14a6-40c4-b2e4-924b57a189ca"
      },
      "outputs": [
        {
          "name": "stderr",
          "output_type": "stream",
          "text": [
            "c:\\Users\\javie\\anaconda3\\envs\\gym\\lib\\site-packages\\tensorflow\\python\\keras\\optimizer_v2\\optimizer_v2.py:374: UserWarning: The `lr` argument is deprecated, use `learning_rate` instead.\n",
            "  warnings.warn(\n"
          ]
        }
      ],
      "source": [
        "# arquitectura de DeepMind paper\n",
        "def construct_double_q_network(input_shape, num_actions, loss='mse', optimizer=Adam(lr=0.0001)):\n",
        "\n",
        "        input_layer = Input(shape=input_shape)\n",
        "        permuted_layer = Permute((3, 2, 1))(input_layer)   #IMPORTANTE \n",
        "        conv1 = Convolution2D(32, (8, 8), strides=(4, 4), activation='relu')(permuted_layer)\n",
        "        conv2 = Convolution2D(64, (4, 4), strides=(2, 2), activation='relu')(conv1)\n",
        "        conv3 = Convolution2D(64, (3, 3), activation='relu')(conv2)\n",
        "        flatten = Flatten()(conv3)\n",
        "\n",
        "        fc1 = Dense(512)(flatten)\n",
        "        advantage = Dense(num_actions)(fc1)\n",
        "\n",
        "        fc2 = Dense(512)(flatten)\n",
        "        value = Dense(1)(fc2)\n",
        "\n",
        "        policy = concatenate([advantage, value], axis=-1)\n",
        "        #policy = Lambda(lambda x: x[:, :-1] - K.mean(x[:, :-1], axis=1, keepdims=True) + x[:, -1])(policy)\n",
        "        def custom_lambda(x):\n",
        "            adv = x[:, :-1]\n",
        "            val = x[:, -1:]\n",
        "            print(f\"adv shape: {adv.shape}, val shape: {val.shape}\")\n",
        "            return adv - K.mean(adv, axis=1, keepdims=True) + val\n",
        "\n",
        "        policy = Lambda(custom_lambda)(policy)\n",
        "\n",
        "\n",
        "        model = Model(inputs=input_layer, outputs=policy)\n",
        "        model.compile(loss=loss, optimizer=optimizer)\n",
        "\n",
        "\n",
        "        print(\"Successfully constructed networks.\")\n",
        "\n",
        "        return model"
      ]
    },
    {
      "cell_type": "markdown",
      "metadata": {},
      "source": [
        "Misma configuracion de memoria y policy"
      ]
    },
    {
      "cell_type": "code",
      "execution_count": 10,
      "metadata": {},
      "outputs": [],
      "source": [
        "memory = SequentialMemory(limit=50000, window_length=WINDOW_LENGTH)\n",
        "processor = AtariProcessor()\n",
        "# Definir la política base\n",
        "base_policy = EpsGreedyQPolicy()\n",
        "\n",
        "# Configurar LinearAnnealedPolicy con los parámetros necesarios\n",
        "policy = LinearAnnealedPolicy(base_policy,\n",
        "                              attr='eps',  # El atributo que se debe anillar\n",
        "                              value_max=1.0,  # Valor inicial de epsilon\n",
        "                              value_min=0.1,  # Valor final de epsilon\n",
        "                              value_test=0.05,  # Valor de epsilon durante la prueba\n",
        "                              nb_steps=10000)  # Número de pasos para el anillado"
      ]
    },
    {
      "cell_type": "code",
      "execution_count": 12,
      "metadata": {
        "id": "axoaV7dz10ym"
      },
      "outputs": [
        {
          "name": "stdout",
          "output_type": "stream",
          "text": [
            "adv shape: (None, 6), val shape: (None, 1)\n",
            "Successfully constructed networks.\n",
            "Model: \"model_3\"\n",
            "__________________________________________________________________________________________________\n",
            "Layer (type)                    Output Shape         Param #     Connected to                     \n",
            "==================================================================================================\n",
            "input_3 (InputLayer)            [(None, 4, 84, 84)]  0                                            \n",
            "__________________________________________________________________________________________________\n",
            "permute_2 (Permute)             (None, 84, 84, 4)    0           input_3[0][0]                    \n",
            "__________________________________________________________________________________________________\n",
            "conv2d_6 (Conv2D)               (None, 20, 20, 32)   8224        permute_2[0][0]                  \n",
            "__________________________________________________________________________________________________\n",
            "conv2d_7 (Conv2D)               (None, 9, 9, 64)     32832       conv2d_6[0][0]                   \n",
            "__________________________________________________________________________________________________\n",
            "conv2d_8 (Conv2D)               (None, 7, 7, 64)     36928       conv2d_7[0][0]                   \n",
            "__________________________________________________________________________________________________\n",
            "flatten_2 (Flatten)             (None, 3136)         0           conv2d_8[0][0]                   \n",
            "__________________________________________________________________________________________________\n",
            "dense_8 (Dense)                 (None, 512)          1606144     flatten_2[0][0]                  \n",
            "__________________________________________________________________________________________________\n",
            "dense_10 (Dense)                (None, 512)          1606144     flatten_2[0][0]                  \n",
            "__________________________________________________________________________________________________\n",
            "dense_9 (Dense)                 (None, 6)            3078        dense_8[0][0]                    \n",
            "__________________________________________________________________________________________________\n",
            "dense_11 (Dense)                (None, 1)            513         dense_10[0][0]                   \n",
            "__________________________________________________________________________________________________\n",
            "concatenate_2 (Concatenate)     (None, 7)            0           dense_9[0][0]                    \n",
            "                                                                 dense_11[0][0]                   \n",
            "__________________________________________________________________________________________________\n",
            "lambda_2 (Lambda)               (None, 6)            0           concatenate_2[0][0]              \n",
            "==================================================================================================\n",
            "Total params: 3,293,863\n",
            "Trainable params: 3,293,863\n",
            "Non-trainable params: 0\n",
            "__________________________________________________________________________________________________\n"
          ]
        }
      ],
      "source": [
        "model = construct_double_q_network(input_shape=(4, 84,84), num_actions=6, loss='mse', optimizer=Adam(lr=0.0001))\n",
        "model.summary()\n"
      ]
    },
    {
      "cell_type": "markdown",
      "metadata": {},
      "source": [
        "Tambien misma configuracion de DQNAgent"
      ]
    },
    {
      "cell_type": "code",
      "execution_count": 9,
      "metadata": {},
      "outputs": [
        {
          "name": "stdout",
          "output_type": "stream",
          "text": [
            "adv shape: (None, 6), val shape: (None, 1)\n"
          ]
        }
      ],
      "source": [
        "dqn = DQNAgent(model=model, \n",
        "                nb_actions=nb_actions,\n",
        "                processor=processor,\n",
        "                memory=memory,\n",
        "                nb_steps_warmup=50000,\n",
        "                target_model_update=1e-2, \n",
        "                policy=policy, \n",
        "                enable_double_dqn=True) #target model te congela durante 100 steps lo que se usa para el \"ground truth\"\n",
        "\n",
        "dqn.compile(Adam(learning_rate=.00025), metrics=['mae'])"
      ]
    },
    {
      "cell_type": "markdown",
      "metadata": {},
      "source": [
        "Entrenamiento "
      ]
    },
    {
      "cell_type": "code",
      "execution_count": 13,
      "metadata": {
        "id": "5TIpBvFH5uGa"
      },
      "outputs": [
        {
          "name": "stdout",
          "output_type": "stream",
          "text": [
            "Training for 1000000 steps ...\n",
            "Interval 1 (0 steps performed)\n"
          ]
        },
        {
          "name": "stderr",
          "output_type": "stream",
          "text": [
            "c:\\Users\\javie\\anaconda3\\envs\\gym\\lib\\site-packages\\tensorflow\\python\\keras\\engine\\training.py:2424: UserWarning: `Model.state_updates` will be removed in a future version. This property should not be used in TensorFlow 2.0, as `updates` are applied automatically.\n",
            "  warnings.warn('`Model.state_updates` will be removed in a future version. '\n"
          ]
        },
        {
          "name": "stdout",
          "output_type": "stream",
          "text": [
            "10000/10000 [==============================] - 76s 8ms/step - reward: 0.0119: 0s - reward: \n",
            "13 episodes - episode_reward: 8.769 [5.000, 13.000] - ale.lives: 2.164\n",
            "\n",
            "Interval 2 (10000 steps performed)\n",
            "10000/10000 [==============================] - 74s 7ms/step - reward: 0.0147\n",
            "11 episodes - episode_reward: 13.818 [11.000, 20.000] - ale.lives: 1.979\n",
            "\n",
            "Interval 3 (20000 steps performed)\n",
            "10000/10000 [==============================] - 88s 9ms/step - reward: 0.0142\n",
            "10 episodes - episode_reward: 13.000 [6.000, 16.000] - ale.lives: 2.109\n",
            "\n",
            "Interval 4 (30000 steps performed)\n",
            "10000/10000 [==============================] - 77s 8ms/step - reward: 0.0133\n",
            "12 episodes - episode_reward: 11.667 [11.000, 15.000] - ale.lives: 2.110\n",
            "\n",
            "Interval 5 (40000 steps performed)\n",
            "10000/10000 [==============================] - 66s 7ms/step - reward: 0.0148\n",
            "11 episodes - episode_reward: 13.000 [10.000, 17.000] - ale.lives: 2.095\n",
            "\n",
            "Interval 6 (50000 steps performed)\n",
            "10000/10000 [==============================] - 1522s 152ms/step - reward: 0.0162\n",
            "13 episodes - episode_reward: 12.231 [5.000, 28.000] - loss: 0.007 - mae: 0.792 - mean_q: 0.956 - mean_eps: 0.100 - ale.lives: 2.089\n",
            "\n",
            "Interval 7 (60000 steps performed)\n",
            "10000/10000 [==============================] - 1559s 156ms/step - reward: 0.0183\n",
            "12 episodes - episode_reward: 15.833 [8.000, 27.000] - loss: 0.008 - mae: 1.646 - mean_q: 1.980 - mean_eps: 0.100 - ale.lives: 2.080\n",
            "\n",
            "Interval 8 (70000 steps performed)\n",
            "10000/10000 [==============================] - 1455s 145ms/step - reward: 0.0182\n",
            "13 episodes - episode_reward: 13.923 [6.000, 21.000] - loss: 0.009 - mae: 2.014 - mean_q: 2.421 - mean_eps: 0.100 - ale.lives: 2.209\n",
            "\n",
            "Interval 9 (80000 steps performed)\n",
            "10000/10000 [==============================] - 1404s 140ms/step - reward: 0.0163\n",
            "9 episodes - episode_reward: 16.556 [8.000, 28.000] - loss: 0.010 - mae: 2.206 - mean_q: 2.652 - mean_eps: 0.100 - ale.lives: 2.022\n",
            "\n",
            "Interval 10 (90000 steps performed)\n",
            "10000/10000 [==============================] - 2105s 211ms/step - reward: 0.0174 \n",
            "12 episodes - episode_reward: 15.833 [8.000, 25.000] - loss: 0.010 - mae: 2.309 - mean_q: 2.777 - mean_eps: 0.100 - ale.lives: 2.061\n",
            "\n",
            "Interval 11 (100000 steps performed)\n",
            "10000/10000 [==============================] - 1706s 171ms/step - reward: 0.0185\n",
            "12 episodes - episode_reward: 15.667 [4.000, 34.000] - loss: 0.011 - mae: 2.402 - mean_q: 2.890 - mean_eps: 0.100 - ale.lives: 1.926\n",
            "\n",
            "Interval 12 (110000 steps performed)\n",
            "10000/10000 [==============================] - 1717s 172ms/step - reward: 0.0188\n",
            "10 episodes - episode_reward: 17.200 [7.000, 27.000] - loss: 0.012 - mae: 2.460 - mean_q: 2.959 - mean_eps: 0.100 - ale.lives: 2.133\n",
            "\n",
            "Interval 13 (120000 steps performed)\n",
            "10000/10000 [==============================] - 1735s 173ms/step - reward: 0.0195\n",
            "13 episodes - episode_reward: 15.308 [5.000, 22.000] - loss: 0.012 - mae: 2.521 - mean_q: 3.034 - mean_eps: 0.100 - ale.lives: 1.996\n",
            "\n",
            "Interval 14 (130000 steps performed)\n",
            "10000/10000 [==============================] - 1759s 176ms/step - reward: 0.0166\n",
            "12 episodes - episode_reward: 14.167 [1.000, 30.000] - loss: 0.013 - mae: 2.587 - mean_q: 3.112 - mean_eps: 0.100 - ale.lives: 2.151\n",
            "\n",
            "Interval 15 (140000 steps performed)\n",
            "10000/10000 [==============================] - 1765s 177ms/step - reward: 0.0171\n",
            "15 episodes - episode_reward: 11.333 [4.000, 27.000] - loss: 0.013 - mae: 2.633 - mean_q: 3.169 - mean_eps: 0.100 - ale.lives: 2.081\n",
            "\n",
            "Interval 16 (150000 steps performed)\n",
            "10000/10000 [==============================] - 1765s 177ms/step - reward: 0.0176\n",
            "11 episodes - episode_reward: 15.000 [10.000, 22.000] - loss: 0.014 - mae: 2.650 - mean_q: 3.189 - mean_eps: 0.100 - ale.lives: 1.970\n",
            "\n",
            "Interval 17 (160000 steps performed)\n",
            "10000/10000 [==============================] - 1758s 176ms/step - reward: 0.0178\n",
            "14 episodes - episode_reward: 14.071 [5.000, 29.000] - loss: 0.014 - mae: 2.647 - mean_q: 3.184 - mean_eps: 0.100 - ale.lives: 1.933\n",
            "\n",
            "Interval 18 (170000 steps performed)\n",
            "10000/10000 [==============================] - 1763s 176ms/step - reward: 0.0184 - rewar - \n",
            "13 episodes - episode_reward: 14.385 [4.000, 23.000] - loss: 0.014 - mae: 2.641 - mean_q: 3.176 - mean_eps: 0.100 - ale.lives: 2.040\n",
            "\n",
            "Interval 19 (180000 steps performed)\n",
            "10000/10000 [==============================] - 1772s 177ms/step - reward: 0.0180\n",
            "10 episodes - episode_reward: 16.400 [10.000, 23.000] - loss: 0.014 - mae: 2.647 - mean_q: 3.183 - mean_eps: 0.100 - ale.lives: 1.982\n",
            "\n",
            "Interval 20 (190000 steps performed)\n",
            "10000/10000 [==============================] - 1783s 178ms/step - reward: 0.0209\n",
            "12 episodes - episode_reward: 17.583 [10.000, 29.000] - loss: 0.014 - mae: 2.683 - mean_q: 3.228 - mean_eps: 0.100 - ale.lives: 2.241\n",
            "\n",
            "Interval 21 (200000 steps performed)\n",
            "10000/10000 [==============================] - 1788s 179ms/step - reward: 0.0217\n",
            "11 episodes - episode_reward: 18.455 [6.000, 25.000] - loss: 0.015 - mae: 2.760 - mean_q: 3.320 - mean_eps: 0.100 - ale.lives: 1.972\n",
            "\n",
            "Interval 22 (210000 steps performed)\n",
            "10000/10000 [==============================] - 1808s 181ms/step - reward: 0.0194\n",
            "13 episodes - episode_reward: 17.077 [3.000, 34.000] - loss: 0.015 - mae: 2.774 - mean_q: 3.338 - mean_eps: 0.100 - ale.lives: 2.096\n",
            "\n",
            "Interval 23 (220000 steps performed)\n",
            "10000/10000 [==============================] - 1806s 181ms/step - reward: 0.0170\n",
            "12 episodes - episode_reward: 13.917 [3.000, 34.000] - loss: 0.016 - mae: 2.809 - mean_q: 3.380 - mean_eps: 0.100 - ale.lives: 2.013\n",
            "\n",
            "Interval 24 (230000 steps performed)\n",
            "10000/10000 [==============================] - 1812s 181ms/step - reward: 0.0181\n",
            "12 episodes - episode_reward: 14.750 [7.000, 23.000] - loss: 0.015 - mae: 2.844 - mean_q: 3.422 - mean_eps: 0.100 - ale.lives: 2.144\n",
            "\n",
            "Interval 25 (240000 steps performed)\n",
            "10000/10000 [==============================] - 1825s 183ms/step - reward: 0.0199\n",
            "11 episodes - episode_reward: 18.000 [9.000, 27.000] - loss: 0.016 - mae: 2.864 - mean_q: 3.446 - mean_eps: 0.100 - ale.lives: 2.065\n",
            "\n",
            "Interval 26 (250000 steps performed)\n",
            "10000/10000 [==============================] - 1815s 182ms/step - reward: 0.0165\n",
            "13 episodes - episode_reward: 12.308 [4.000, 28.000] - loss: 0.016 - mae: 2.897 - mean_q: 3.485 - mean_eps: 0.100 - ale.lives: 2.038\n",
            "\n",
            "Interval 27 (260000 steps performed)\n",
            "10000/10000 [==============================] - 1820s 182ms/step - reward: 0.0174\n",
            "12 episodes - episode_reward: 15.083 [7.000, 24.000] - loss: 0.016 - mae: 2.873 - mean_q: 3.456 - mean_eps: 0.100 - ale.lives: 2.061\n",
            "\n",
            "Interval 28 (270000 steps performed)\n",
            "10000/10000 [==============================] - 1827s 183ms/step - reward: 0.0192\n",
            "13 episodes - episode_reward: 14.923 [6.000, 28.000] - loss: 0.016 - mae: 2.913 - mean_q: 3.505 - mean_eps: 0.100 - ale.lives: 2.247\n",
            "\n",
            "Interval 29 (280000 steps performed)\n",
            "10000/10000 [==============================] - 1837s 184ms/step - reward: 0.0191\n",
            "12 episodes - episode_reward: 14.917 [4.000, 23.000] - loss: 0.016 - mae: 2.926 - mean_q: 3.520 - mean_eps: 0.100 - ale.lives: 2.047\n",
            "\n",
            "Interval 30 (290000 steps performed)\n",
            "10000/10000 [==============================] - 1850s 185ms/step - reward: 0.0174\n",
            "12 episodes - episode_reward: 14.667 [8.000, 21.000] - loss: 0.016 - mae: 2.920 - mean_q: 3.512 - mean_eps: 0.100 - ale.lives: 2.010\n",
            "\n",
            "Interval 31 (300000 steps performed)\n",
            "10000/10000 [==============================] - 1817s 182ms/step - reward: 0.0186\n",
            "11 episodes - episode_reward: 17.182 [6.000, 42.000] - loss: 0.016 - mae: 2.896 - mean_q: 3.485 - mean_eps: 0.100 - ale.lives: 1.955\n",
            "\n",
            "Interval 32 (310000 steps performed)\n",
            "10000/10000 [==============================] - 1553s 155ms/step - reward: 0.0170\n",
            "13 episodes - episode_reward: 13.462 [5.000, 25.000] - loss: 0.016 - mae: 2.918 - mean_q: 3.511 - mean_eps: 0.100 - ale.lives: 1.998\n",
            "\n",
            "Interval 33 (320000 steps performed)\n",
            "10000/10000 [==============================] - 1531s 153ms/step - reward: 0.0167\n",
            "12 episodes - episode_reward: 13.250 [4.000, 27.000] - loss: 0.017 - mae: 2.964 - mean_q: 3.567 - mean_eps: 0.100 - ale.lives: 2.076\n",
            "\n",
            "Interval 34 (330000 steps performed)\n",
            "10000/10000 [==============================] - 1541s 154ms/step - reward: 0.0212\n",
            "13 episodes - episode_reward: 15.231 [7.000, 25.000] - loss: 0.016 - mae: 2.961 - mean_q: 3.564 - mean_eps: 0.100 - ale.lives: 1.937\n",
            "\n",
            "Interval 35 (340000 steps performed)\n",
            "10000/10000 [==============================] - 1546s 155ms/step - reward: 0.0190\n",
            "14 episodes - episode_reward: 14.857 [4.000, 30.000] - loss: 0.017 - mae: 2.978 - mean_q: 3.584 - mean_eps: 0.100 - ale.lives: 2.049\n",
            "\n",
            "Interval 36 (350000 steps performed)\n",
            "10000/10000 [==============================] - 1558s 156ms/step - reward: 0.0180\n",
            "13 episodes - episode_reward: 14.077 [8.000, 29.000] - loss: 0.017 - mae: 2.998 - mean_q: 3.608 - mean_eps: 0.100 - ale.lives: 2.118\n",
            "\n",
            "Interval 37 (360000 steps performed)\n",
            "10000/10000 [==============================] - 1584s 158ms/step - reward: 0.0199 - rewar\n",
            "14 episodes - episode_reward: 14.214 [7.000, 24.000] - loss: 0.017 - mae: 3.030 - mean_q: 3.647 - mean_eps: 0.100 - ale.lives: 2.007\n",
            "\n",
            "Interval 38 (370000 steps performed)\n",
            "10000/10000 [==============================] - 1624s 162ms/step - reward: 0.0188\n",
            "13 episodes - episode_reward: 13.769 [5.000, 24.000] - loss: 0.018 - mae: 3.026 - mean_q: 3.641 - mean_eps: 0.100 - ale.lives: 2.154\n",
            "\n",
            "Interval 39 (380000 steps performed)\n",
            "10000/10000 [==============================] - 1577s 158ms/step - reward: 0.0166\n",
            "12 episodes - episode_reward: 14.500 [6.000, 34.000] - loss: 0.018 - mae: 3.046 - mean_q: 3.665 - mean_eps: 0.100 - ale.lives: 1.986\n",
            "\n",
            "Interval 40 (390000 steps performed)\n",
            "10000/10000 [==============================] - 1605s 160ms/step - reward: 0.0204\n",
            "13 episodes - episode_reward: 15.538 [3.000, 24.000] - loss: 0.018 - mae: 3.028 - mean_q: 3.643 - mean_eps: 0.100 - ale.lives: 2.014\n",
            "\n",
            "Interval 41 (400000 steps performed)\n",
            "10000/10000 [==============================] - 1638s 164ms/step - reward: 0.0205\n",
            "13 episodes - episode_reward: 15.538 [7.000, 24.000] - loss: 0.018 - mae: 3.010 - mean_q: 3.621 - mean_eps: 0.100 - ale.lives: 2.185\n",
            "\n",
            "Interval 42 (410000 steps performed)\n",
            "10000/10000 [==============================] - 1648s 165ms/step - reward: 0.0162\n",
            "15 episodes - episode_reward: 11.267 [4.000, 22.000] - loss: 0.018 - mae: 3.048 - mean_q: 3.667 - mean_eps: 0.100 - ale.lives: 2.009\n",
            "\n",
            "Interval 43 (420000 steps performed)\n",
            "10000/10000 [==============================] - 1679s 168ms/step - reward: 0.0190\n",
            "13 episodes - episode_reward: 14.692 [2.000, 31.000] - loss: 0.018 - mae: 3.041 - mean_q: 3.660 - mean_eps: 0.100 - ale.lives: 2.002\n",
            "\n",
            "Interval 44 (430000 steps performed)\n",
            "10000/10000 [==============================] - 2099s 210ms/step - reward: 0.0184\n",
            "13 episodes - episode_reward: 12.846 [4.000, 29.000] - loss: 0.018 - mae: 3.078 - mean_q: 3.704 - mean_eps: 0.100 - ale.lives: 1.990\n",
            "\n",
            "Interval 45 (440000 steps performed)\n",
            "10000/10000 [==============================] - 2253s 225ms/step - reward: 0.0179\n",
            "11 episodes - episode_reward: 16.636 [3.000, 28.000] - loss: 0.019 - mae: 3.102 - mean_q: 3.732 - mean_eps: 0.100 - ale.lives: 2.075\n",
            "\n",
            "Interval 46 (450000 steps performed)\n",
            "10000/10000 [==============================] - 1956s 196ms/step - reward: 0.0193\n",
            "14 episodes - episode_reward: 13.929 [5.000, 28.000] - loss: 0.018 - mae: 3.083 - mean_q: 3.709 - mean_eps: 0.100 - ale.lives: 2.007\n",
            "\n",
            "Interval 47 (460000 steps performed)\n",
            "10000/10000 [==============================] - 1720s 172ms/step - reward: 0.0193\n",
            "11 episodes - episode_reward: 18.545 [7.000, 33.000] - loss: 0.018 - mae: 3.061 - mean_q: 3.682 - mean_eps: 0.100 - ale.lives: 1.992\n",
            "\n",
            "Interval 48 (470000 steps performed)\n",
            "10000/10000 [==============================] - 1735s 174ms/step - reward: 0.0206\n",
            "12 episodes - episode_reward: 17.583 [6.000, 29.000] - loss: 0.018 - mae: 3.022 - mean_q: 3.636 - mean_eps: 0.100 - ale.lives: 2.028\n",
            "\n",
            "Interval 49 (480000 steps performed)\n",
            "10000/10000 [==============================] - 1739s 174ms/step - reward: 0.0199\n",
            "12 episodes - episode_reward: 16.000 [5.000, 26.000] - loss: 0.018 - mae: 3.029 - mean_q: 3.645 - mean_eps: 0.100 - ale.lives: 2.050\n",
            "\n",
            "Interval 50 (490000 steps performed)\n",
            "10000/10000 [==============================] - 1967s 197ms/step - reward: 0.0180\n",
            "14 episodes - episode_reward: 12.500 [6.000, 26.000] - loss: 0.019 - mae: 3.084 - mean_q: 3.710 - mean_eps: 0.100 - ale.lives: 1.960\n",
            "\n",
            "Interval 51 (500000 steps performed)\n",
            "10000/10000 [==============================] - 2141s 214ms/step - reward: 0.0178\n",
            "13 episodes - episode_reward: 14.154 [3.000, 23.000] - loss: 0.017 - mae: 3.034 - mean_q: 3.650 - mean_eps: 0.100 - ale.lives: 2.026\n",
            "\n",
            "Interval 52 (510000 steps performed)\n",
            "10000/10000 [==============================] - 1873s 187ms/step - reward: 0.0180\n",
            "12 episodes - episode_reward: 14.750 [9.000, 23.000] - loss: 0.018 - mae: 3.070 - mean_q: 3.694 - mean_eps: 0.100 - ale.lives: 1.768\n",
            "\n",
            "Interval 53 (520000 steps performed)\n",
            "10000/10000 [==============================] - 1983s 198ms/step - reward: 0.0205\n",
            "13 episodes - episode_reward: 15.769 [5.000, 28.000] - loss: 0.018 - mae: 3.085 - mean_q: 3.711 - mean_eps: 0.100 - ale.lives: 2.163\n",
            "\n",
            "Interval 54 (530000 steps performed)\n",
            "10000/10000 [==============================] - 1942s 194ms/step - reward: 0.0178\n",
            "11 episodes - episode_reward: 16.727 [8.000, 25.000] - loss: 0.018 - mae: 3.046 - mean_q: 3.664 - mean_eps: 0.100 - ale.lives: 1.959\n",
            "\n",
            "Interval 55 (540000 steps performed)\n",
            "10000/10000 [==============================] - 1968s 197ms/step - reward: 0.0185\n",
            "11 episodes - episode_reward: 15.545 [5.000, 26.000] - loss: 0.018 - mae: 3.053 - mean_q: 3.672 - mean_eps: 0.100 - ale.lives: 2.045\n",
            "\n",
            "Interval 56 (550000 steps performed)\n",
            "10000/10000 [==============================] - 1830s 183ms/step - reward: 0.0208\n",
            "12 episodes - episode_reward: 18.667 [5.000, 27.000] - loss: 0.018 - mae: 3.089 - mean_q: 3.716 - mean_eps: 0.100 - ale.lives: 1.837\n",
            "\n",
            "Interval 57 (560000 steps performed)\n",
            "10000/10000 [==============================] - 1848s 185ms/step - reward: 0.0204\n",
            "12 episodes - episode_reward: 15.083 [3.000, 25.000] - loss: 0.019 - mae: 3.109 - mean_q: 3.741 - mean_eps: 0.100 - ale.lives: 2.083\n",
            "\n",
            "Interval 58 (570000 steps performed)\n",
            "10000/10000 [==============================] - 2791s 279ms/step - reward: 0.0181\n",
            "15 episodes - episode_reward: 13.133 [5.000, 27.000] - loss: 0.019 - mae: 3.193 - mean_q: 3.842 - mean_eps: 0.100 - ale.lives: 2.058\n",
            "\n",
            "Interval 59 (580000 steps performed)\n",
            "10000/10000 [==============================] - 2290s 229ms/step - reward: 0.0181\n",
            "13 episodes - episode_reward: 14.538 [6.000, 23.000] - loss: 0.020 - mae: 3.195 - mean_q: 3.844 - mean_eps: 0.100 - ale.lives: 1.989\n",
            "\n",
            "Interval 60 (590000 steps performed)\n",
            "10000/10000 [==============================] - 2340s 234ms/step - reward: 0.0188\n",
            "14 episodes - episode_reward: 12.714 [3.000, 28.000] - loss: 0.019 - mae: 3.168 - mean_q: 3.812 - mean_eps: 0.100 - ale.lives: 1.933\n",
            "\n",
            "Interval 61 (600000 steps performed)\n",
            "10000/10000 [==============================] - 2367s 237ms/step - reward: 0.0168\n",
            "13 episodes - episode_reward: 13.385 [4.000, 27.000] - loss: 0.018 - mae: 3.095 - mean_q: 3.723 - mean_eps: 0.100 - ale.lives: 2.098\n",
            "\n",
            "Interval 62 (610000 steps performed)\n",
            "10000/10000 [==============================] - 2376s 238ms/step - reward: 0.0199\n",
            "14 episodes - episode_reward: 14.214 [2.000, 27.000] - loss: 0.018 - mae: 3.091 - mean_q: 3.719 - mean_eps: 0.100 - ale.lives: 2.098\n",
            "\n",
            "Interval 63 (620000 steps performed)\n",
            "10000/10000 [==============================] - 2406s 241ms/step - reward: 0.0169\n",
            "13 episodes - episode_reward: 12.231 [5.000, 24.000] - loss: 0.018 - mae: 3.117 - mean_q: 3.751 - mean_eps: 0.100 - ale.lives: 2.086\n",
            "\n",
            "Interval 64 (630000 steps performed)\n",
            "10000/10000 [==============================] - 2425s 243ms/step - reward: 0.0194\n",
            "12 episodes - episode_reward: 16.333 [6.000, 31.000] - loss: 0.019 - mae: 3.175 - mean_q: 3.820 - mean_eps: 0.100 - ale.lives: 2.094\n",
            "\n",
            "Interval 65 (640000 steps performed)\n",
            "10000/10000 [==============================] - 2454s 245ms/step - reward: 0.0185\n",
            "13 episodes - episode_reward: 15.077 [7.000, 25.000] - loss: 0.018 - mae: 3.164 - mean_q: 3.807 - mean_eps: 0.100 - ale.lives: 1.894\n",
            "\n",
            "Interval 66 (650000 steps performed)\n",
            "10000/10000 [==============================] - 2466s 247ms/step - reward: 0.0188\n",
            "14 episodes - episode_reward: 13.071 [5.000, 21.000] - loss: 0.019 - mae: 3.154 - mean_q: 3.795 - mean_eps: 0.100 - ale.lives: 1.918\n",
            "\n",
            "Interval 67 (660000 steps performed)\n",
            "10000/10000 [==============================] - 2480s 248ms/step - reward: 0.0182\n",
            "13 episodes - episode_reward: 12.385 [4.000, 20.000] - loss: 0.019 - mae: 3.149 - mean_q: 3.789 - mean_eps: 0.100 - ale.lives: 1.921\n",
            "\n",
            "Interval 68 (670000 steps performed)\n",
            "10000/10000 [==============================] - 2504s 250ms/step - reward: 0.0180\n",
            "12 episodes - episode_reward: 17.167 [6.000, 29.000] - loss: 0.018 - mae: 3.128 - mean_q: 3.763 - mean_eps: 0.100 - ale.lives: 1.954\n",
            "\n",
            "Interval 69 (680000 steps performed)\n",
            "10000/10000 [==============================] - 2537s 254ms/step - reward: 0.0183\n",
            "11 episodes - episode_reward: 15.818 [9.000, 24.000] - loss: 0.019 - mae: 3.146 - mean_q: 3.785 - mean_eps: 0.100 - ale.lives: 2.024\n",
            "\n",
            "Interval 70 (690000 steps performed)\n",
            "10000/10000 [==============================] - 2552s 255ms/step - reward: 0.0209\n",
            "13 episodes - episode_reward: 16.000 [9.000, 28.000] - loss: 0.019 - mae: 3.177 - mean_q: 3.822 - mean_eps: 0.100 - ale.lives: 2.073\n",
            "\n",
            "Interval 71 (700000 steps performed)\n",
            "10000/10000 [==============================] - 2449s 245ms/step - reward: 0.0176\n",
            "11 episodes - episode_reward: 17.000 [8.000, 29.000] - loss: 0.020 - mae: 3.223 - mean_q: 3.878 - mean_eps: 0.100 - ale.lives: 2.208\n",
            "\n",
            "Interval 72 (710000 steps performed)\n",
            "10000/10000 [==============================] - 2123s 212ms/step - reward: 0.0198\n",
            "13 episodes - episode_reward: 15.154 [10.000, 21.000] - loss: 0.020 - mae: 3.265 - mean_q: 3.930 - mean_eps: 0.100 - ale.lives: 1.978\n",
            "\n",
            "Interval 73 (720000 steps performed)\n",
            "10000/10000 [==============================] - 2142s 214ms/step - reward: 0.0176\n",
            "11 episodes - episode_reward: 14.545 [5.000, 29.000] - loss: 0.021 - mae: 3.276 - mean_q: 3.942 - mean_eps: 0.100 - ale.lives: 2.160\n",
            "\n",
            "Interval 74 (730000 steps performed)\n",
            "10000/10000 [==============================] - 2171s 217ms/step - reward: 0.0185\n",
            "11 episodes - episode_reward: 17.636 [7.000, 30.000] - loss: 0.020 - mae: 3.248 - mean_q: 3.908 - mean_eps: 0.100 - ale.lives: 1.932\n",
            "\n",
            "Interval 75 (740000 steps performed)\n",
            "10000/10000 [==============================] - 2260s 226ms/step - reward: 0.0198\n",
            "11 episodes - episode_reward: 18.091 [6.000, 29.000] - loss: 0.019 - mae: 3.191 - mean_q: 3.839 - mean_eps: 0.100 - ale.lives: 1.862\n",
            "\n",
            "Interval 76 (750000 steps performed)\n",
            " 2928/10000 [=======>......................] - ETA: 26:03 - reward: 0.0205done, took 135876.629 seconds\n"
          ]
        }
      ],
      "source": [
        "# Training part\n",
        "weights_filename = 'dqn3_{}_weights.h5f'.format(env_name)\n",
        "checkpoint_weights_filename = 'dqn3_' + env_name + '_weights_{step}.h5f'\n",
        "log_filename = 'dqn3_{}_log.json'.format(env_name)\n",
        "callbacks = [ModelIntervalCheckpoint(checkpoint_weights_filename, interval=250000)]\n",
        "callbacks += [FileLogger(log_filename, interval=100)]\n",
        "\n",
        "dqn.fit(sticky_env, callbacks=callbacks, nb_steps=1000000, log_interval=10000, visualize=False)\n",
        "\n",
        "dqn.save_weights(weights_filename, overwrite=True)"
      ]
    },
    {
      "cell_type": "markdown",
      "metadata": {},
      "source": [
        "Por falta de tiempo nos vimos obligados a parar en 750000 steps"
      ]
    },
    {
      "cell_type": "code",
      "execution_count": 15,
      "metadata": {
        "id": "OHYryKd1Gb2b"
      },
      "outputs": [
        {
          "name": "stdout",
          "output_type": "stream",
          "text": [
            "Testing for 10 episodes ...\n",
            "Episode 1: reward: 19.000, steps: 1074\n",
            "Episode 2: reward: 24.000, steps: 831\n",
            "Episode 3: reward: 26.000, steps: 1223\n",
            "Episode 4: reward: 22.000, steps: 890\n",
            "Episode 5: reward: 13.000, steps: 629\n",
            "Episode 6: reward: 29.000, steps: 1231\n",
            "Episode 7: reward: 14.000, steps: 666\n",
            "Episode 8: reward: 17.000, steps: 703\n",
            "Episode 9: reward: 18.000, steps: 971\n",
            "Episode 10: reward: 29.000, steps: 1141\n"
          ]
        },
        {
          "data": {
            "text/plain": [
              "<tensorflow.python.keras.callbacks.History at 0x27341b0fe50>"
            ]
          },
          "execution_count": 15,
          "metadata": {},
          "output_type": "execute_result"
        }
      ],
      "source": [
        "# Testing part to calculate the mean reward\n",
        "weights_filename = 'dqn3_{}_weights_750000.h5f'.format(env_name)\n",
        "dqn.load_weights(weights_filename)\n",
        "dqn.test(env, nb_episodes=10, visualize=False)"
      ]
    },
    {
      "cell_type": "markdown",
      "metadata": {},
      "source": [
        "El resultado es una media de 22 de recompensa, lo cual cumple con los objetivos."
      ]
    },
    {
      "cell_type": "markdown",
      "metadata": {
        "id": "ANFQiicXK3sO"
      },
      "source": [
        "---"
      ]
    }
  ],
  "metadata": {
    "colab": {
      "provenance": []
    },
    "kernelspec": {
      "display_name": "Python 3",
      "language": "python",
      "name": "python3"
    },
    "language_info": {
      "codemirror_mode": {
        "name": "ipython",
        "version": 3
      },
      "file_extension": ".py",
      "mimetype": "text/x-python",
      "name": "python",
      "nbconvert_exporter": "python",
      "pygments_lexer": "ipython3",
      "version": "3.8.19"
    }
  },
  "nbformat": 4,
  "nbformat_minor": 0
}
