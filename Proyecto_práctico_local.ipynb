{
  "cells": [
    {
      "cell_type": "markdown",
      "metadata": {
        "id": "jUehXgCyIRdq"
      },
      "source": [
        "# Actividad - Proyecto práctico\n",
        "\n",
        "\n",
        "> La actividad se desarrollará en grupos pre-definidos de 2-3 alumnos. Se debe indicar los nombres en orden alfabético (de apellidos). Recordad que esta actividad se corresponde con un 30% de la nota final de la asignatura. Se debe entregar entregar el trabajo en la presente notebook.\n",
        "*   Alumno 1:\n",
        "*   Alumno 2:\n",
        "*   Alumno 3:\n",
        "\n",
        "\n",
        "\n",
        "\n"
      ]
    },
    {
      "cell_type": "markdown",
      "metadata": {
        "id": "JwpYlnjWJhS9"
      },
      "source": [
        "---\n",
        "## **PARTE 1** - Instalación y requisitos previos\n",
        "\n",
        "> Las prácticas han sido preparadas para poder realizarse en el entorno de trabajo de Google Colab. Sin embargo, esta plataforma presenta ciertas incompatibilidades a la hora de visualizar la renderización en gym. Por ello, para obtener estas visualizaciones, se deberá trasladar el entorno de trabajo a local. Por ello, el presente dosier presenta instrucciones para poder trabajar en ambos entornos. Siga los siguientes pasos para un correcto funcionamiento:\n",
        "1.   **LOCAL:** Preparar el enviroment, siguiendo las intrucciones detalladas en la sección *1.1.Preparar enviroment*.\n",
        "2.  **AMBOS:** Modificar las variables \"mount\" y \"drive_mount\" a la carpeta de trabajo en drive en el caso de estar en Colab, y ejecturar la celda *1.2.Localizar entorno de trabajo*.\n",
        "3. **COLAB:** se deberá ejecutar las celdas correspondientes al montaje de la carpeta de trabajo en Drive. Esta corresponde a la sección *1.3.Montar carpeta de datos local*.\n",
        "4.  **AMBOS:** Instalar las librerías necesarias, siguiendo la sección *1.4.Instalar librerías necesarias*.\n"
      ]
    },
    {
      "cell_type": "markdown",
      "metadata": {
        "id": "RU2BPrK2JkP0"
      },
      "source": [
        "---\n",
        "### 1.1. Preparar enviroment (solo local)\n",
        "\n",
        "\n",
        "\n",
        "> Para preparar el entorno de trabajo en local, se han seguido los siguientes pasos:\n",
        "1. En Windows, puede ser necesario instalar las C++ Build Tools. Para ello, siga los siguientes pasos: https://towardsdatascience.com/how-to-install-openai-gym-in-a-windows-environment-338969e24d30.\n",
        "2. Instalar Anaconda\n",
        "3. Siguiendo el código que se presenta comentado en la próxima celda: Crear un enviroment, cambiar la ruta de trabajo, e instalar librerías básicas.\n",
        "\n",
        "\n",
        "```\n",
        "conda create --name miar_rl python=3.8\n",
        "conda activate miar_rl\n",
        "cd \"PATH_TO_FOLDER\"\n",
        "conda install git\n",
        "pip install jupyter\n",
        "```\n",
        "\n",
        "\n",
        "4. Abrir la notebook con *jupyter-notebook*.\n",
        "\n",
        "\n",
        "\n",
        "```\n",
        "jupyter-notebook\n",
        "```\n"
      ]
    },
    {
      "cell_type": "markdown",
      "metadata": {
        "id": "i1ZSL5bpJ560"
      },
      "source": [
        "---\n",
        "### 1.4. Instalar librerías necesarias\n",
        "(descomenta si es la primera vez que corres el codigo)"
      ]
    },
    {
      "cell_type": "code",
      "execution_count": 17,
      "metadata": {
        "colab": {
          "base_uri": "https://localhost:8080/"
        },
        "id": "UbVRjvHCJ8UF",
        "outputId": "18c58634-0271-4bc8-8443-ab484ca4a25d"
      },
      "outputs": [],
      "source": [
        "# %pip install gym==0.17.3\n",
        "# %pip install git+https://github.com/Kojoley/atari-py.git\n",
        "# %pip install pyglet==1.5.0\n",
        "# %pip install h5py==3.1.0\n",
        "# %pip install Pillow==9.5.0\n",
        "# %pip install keras-rl2==1.0.5\n",
        "# %pip install Keras==2.2.4\n",
        "# %pip install tensorflow==2.5.3\n",
        "# %pip install torch==2.0.1\n",
        "# %pip install agents==1.4.0"
      ]
    },
    {
      "cell_type": "markdown",
      "metadata": {
        "id": "4hzP_5ZuGb2X"
      },
      "source": [
        "---\n",
        "## **PARTE 2**. Enunciado\n",
        "\n",
        "Consideraciones a tener en cuenta:\n",
        "\n",
        "- El entorno sobre el que trabajaremos será _SpaceInvaders-v0_ y el algoritmo que usaremos será _DQN_.\n",
        "\n",
        "- Para nuestro ejercicio, el requisito mínimo será alcanzado cuando el agente consiga una **media de recompensa por encima de 20 puntos en modo test**. Por ello, esta media de la recompensa se calculará a partir del código de test en la última celda del notebook.\n",
        "\n",
        "Este proyecto práctico consta de tres partes:\n",
        "\n",
        "1.   Implementar la red neuronal que se usará en la solución\n",
        "2.   Implementar las distintas piezas de la solución DQN\n",
        "3.   Justificar la respuesta en relación a los resultados obtenidos\n",
        "\n",
        "**Rúbrica**: Se valorará la originalidad en la solución aportada, así como la capacidad de discutir los resultados de forma detallada. El requisito mínimo servirá para aprobar la actividad, bajo premisa de que la discusión del resultado sera apropiada.\n",
        "\n",
        "IMPORTANTE:\n",
        "\n",
        "* Si no se consigue una puntuación óptima, responder sobre la mejor puntuación obtenida.\n",
        "* Para entrenamientos largos, recordad que podéis usar checkpoints de vuestros modelos para retomar los entrenamientos. En este caso, recordad cambiar los parámetros adecuadamente (sobre todo los relacionados con el proceso de exploración).\n",
        "* Se deberá entregar unicamente el notebook y los pesos del mejor modelo en un fichero .zip, de forma organizada.\n",
        "* Cada alumno deberá de subir la solución de forma individual."
      ]
    },
    {
      "cell_type": "markdown",
      "metadata": {
        "id": "6_b3mzw8IzJP"
      },
      "source": [
        "---\n",
        "## **PARTE 3**. Desarrollo y preguntas"
      ]
    },
    {
      "cell_type": "markdown",
      "metadata": {
        "id": "duPmUNOVGb2a"
      },
      "source": [
        "#### Importar librerías"
      ]
    },
    {
      "cell_type": "code",
      "execution_count": 18,
      "metadata": {
        "id": "j3eRhgI-Gb2a"
      },
      "outputs": [],
      "source": [
        "from __future__ import division\n",
        "\n",
        "from PIL import Image\n",
        "import numpy as np\n",
        "import gym\n",
        "\n",
        "from tensorflow.keras.models import Sequential, Model\n",
        "from tensorflow.keras.layers import Dense, Activation, Flatten, Convolution2D, Permute, Input, concatenate, Lambda\n",
        "from tensorflow.keras.optimizers import Adam\n",
        "import tensorflow.keras.backend as K\n",
        "\n",
        "from rl.agents.dqn import DQNAgent\n",
        "from rl.policy import LinearAnnealedPolicy, BoltzmannQPolicy, EpsGreedyQPolicy\n",
        "from rl.memory import SequentialMemory\n",
        "from rl.core import Processor\n",
        "from rl.callbacks import FileLogger, ModelIntervalCheckpoint"
      ]
    },
    {
      "cell_type": "markdown",
      "metadata": {
        "id": "f4jgQjzoGb2a"
      },
      "source": [
        "#### Configuración base"
      ]
    },
    {
      "cell_type": "code",
      "execution_count": 19,
      "metadata": {
        "id": "jwOE6I_KGb2a"
      },
      "outputs": [],
      "source": [
        "INPUT_SHAPE = (84, 84)\n",
        "WINDOW_LENGTH = 4\n",
        "IN_COLAB=False\n",
        "\n",
        "env_name = 'SpaceInvaders-v0'\n",
        "env = gym.make(env_name)\n",
        "\n",
        "np.random.seed(123)\n",
        "env.seed(123)\n",
        "nb_actions = env.action_space.n"
      ]
    },
    {
      "cell_type": "code",
      "execution_count": 20,
      "metadata": {
        "colab": {
          "base_uri": "https://localhost:8080/"
        },
        "id": "MKaHcYyhgZEa",
        "outputId": "644ca422-a7b4-4145-b848-4fa51a439d6b"
      },
      "outputs": [
        {
          "name": "stdout",
          "output_type": "stream",
          "text": [
            "Numero de acciones disponibles:6\n",
            "Formato de las observaciones:\n"
          ]
        },
        {
          "data": {
            "text/plain": [
              "Box(0, 255, (210, 160, 3), uint8)"
            ]
          },
          "execution_count": 20,
          "metadata": {},
          "output_type": "execute_result"
        }
      ],
      "source": [
        "print(\"Numero de acciones disponibles:\" + str(nb_actions))\n",
        "print(\"Formato de las observaciones:\")\n",
        "env.observation_space"
      ]
    },
    {
      "cell_type": "markdown",
      "metadata": {
        "id": "eMkfp2vDmRkD"
      },
      "source": [
        "Un espacio de soluciones de dimensiones (210,160,3) tiene un tamaño inmanejable. Se puede reducir ese espacio a un tamaño de 84x84 con una window length 4."
      ]
    },
    {
      "cell_type": "code",
      "execution_count": 21,
      "metadata": {
        "id": "9jGEZUcpGb2a"
      },
      "outputs": [],
      "source": [
        "class AtariProcessor(Processor):\n",
        "    def process_observation(self, observation):\n",
        "        assert observation.ndim == 3  # (height, width, channel)\n",
        "        img = Image.fromarray(observation)\n",
        "        img = img.resize(INPUT_SHAPE).convert('L')\n",
        "        processed_observation = np.array(img)\n",
        "        assert processed_observation.shape == INPUT_SHAPE\n",
        "        return processed_observation.astype('uint8')\n",
        "\n",
        "    def process_state_batch(self, batch):\n",
        "        processed_batch = batch.astype('float32') / 255.\n",
        "        return processed_batch\n",
        "\n",
        "    def process_reward(self, reward):\n",
        "        return np.clip(reward, -1., 1.)"
      ]
    },
    {
      "cell_type": "markdown",
      "metadata": {
        "id": "s3f9lie5gktz"
      },
      "source": [
        "## 1. Implementación de la red neuronal"
      ]
    },
    {
      "cell_type": "markdown",
      "metadata": {
        "id": "E-oag6zzn87v"
      },
      "source": [
        "Se puede hacer:\n",
        "\n",
        "\n",
        "1.   DQN\n",
        "2.   Doble DQN\n",
        "3.   Duel DQN\n",
        "\n",
        "Y luego también variar el discount factor, cambios en epsilon, tamaño de memoria, uso de epsilon greedy vs. boltzman y escribir como varía el resultado. Cambiar el número de episodios es un poco gilipollez, dara mejores resultados por más train. Usamos un número pequeño de episodios. el mínimo para que llegue a 20 puntos y a partir de ahí vamos probando. También podríamos cambiar el input de la red neuronal.\n",
        "\n",
        "## VER EN CONJUNTO\n",
        "\n",
        "\n",
        "\n"
      ]
    },
    {
      "cell_type": "code",
      "execution_count": 22,
      "metadata": {
        "colab": {
          "base_uri": "https://localhost:8080/"
        },
        "id": "foSlxWH1Gb2b",
        "outputId": "fa54614b-14a6-40c4-b2e4-924b57a189ca"
      },
      "outputs": [
        {
          "name": "stderr",
          "output_type": "stream",
          "text": [
            "c:\\Users\\javie\\anaconda3\\envs\\gym\\lib\\site-packages\\tensorflow\\python\\keras\\optimizer_v2\\optimizer_v2.py:374: UserWarning: The `lr` argument is deprecated, use `learning_rate` instead.\n",
            "  warnings.warn(\n"
          ]
        }
      ],
      "source": [
        "# arquitectura de DeepMind paper\n",
        "def construct_double_q_network(input_shape, num_actions, loss='mse', optimizer=Adam(lr=0.000001)):\n",
        "\n",
        "        input_layer = Input(shape=input_shape)\n",
        "        permuted_layer = Permute((3, 2, 1))(input_layer)   #IMPORTANTE \n",
        "        conv1 = Convolution2D(32, (8, 8), strides=(4, 4), activation='relu')(permuted_layer)\n",
        "        conv2 = Convolution2D(64, (4, 4), strides=(2, 2), activation='relu')(conv1)\n",
        "        conv3 = Convolution2D(64, (3, 3), activation='relu')(conv2)\n",
        "        flatten = Flatten()(conv3)\n",
        "\n",
        "        fc1 = Dense(512)(flatten)\n",
        "        advantage = Dense(num_actions)(fc1)\n",
        "\n",
        "        fc2 = Dense(512)(flatten)\n",
        "        value = Dense(1)(fc2)\n",
        "\n",
        "        policy = concatenate([advantage, value], axis=-1)\n",
        "        #policy = Lambda(lambda x: x[:, :-1] - K.mean(x[:, :-1], axis=1, keepdims=True) + x[:, -1])(policy)\n",
        "        def custom_lambda(x):\n",
        "            adv = x[:, :-1]\n",
        "            val = x[:, -1:]\n",
        "            print(f\"adv shape: {adv.shape}, val shape: {val.shape}\")\n",
        "            return adv - K.mean(adv, axis=1, keepdims=True) + val\n",
        "\n",
        "        policy = Lambda(custom_lambda)(policy)\n",
        "\n",
        "\n",
        "        model = Model(inputs=input_layer, outputs=policy)\n",
        "        model.compile(loss=loss, optimizer=optimizer)\n",
        "\n",
        "\n",
        "        print(\"Successfully constructed networks.\")\n",
        "\n",
        "        return model"
      ]
    },
    {
      "cell_type": "markdown",
      "metadata": {
        "id": "OOYcwbDA2U9M"
      },
      "source": [
        "Ver aquí parámetros del https://www.tensorflow.org/agents/api_docs/python/tf_agents/agents/DqnAgent"
      ]
    },
    {
      "cell_type": "code",
      "execution_count": 23,
      "metadata": {},
      "outputs": [],
      "source": [
        "memory = SequentialMemory(limit=1000000, window_length=WINDOW_LENGTH)\n",
        "processor = AtariProcessor()\n",
        "policy = EpsGreedyQPolicy()"
      ]
    },
    {
      "cell_type": "code",
      "execution_count": 24,
      "metadata": {
        "id": "axoaV7dz10ym"
      },
      "outputs": [
        {
          "name": "stdout",
          "output_type": "stream",
          "text": [
            "adv shape: (None, 6), val shape: (None, 1)\n",
            "Successfully constructed networks.\n",
            "Model: \"model_2\"\n",
            "__________________________________________________________________________________________________\n",
            "Layer (type)                    Output Shape         Param #     Connected to                     \n",
            "==================================================================================================\n",
            "input_2 (InputLayer)            [(None, 4, 84, 84)]  0                                            \n",
            "__________________________________________________________________________________________________\n",
            "permute_1 (Permute)             (None, 84, 84, 4)    0           input_2[0][0]                    \n",
            "__________________________________________________________________________________________________\n",
            "conv2d_3 (Conv2D)               (None, 20, 20, 32)   8224        permute_1[0][0]                  \n",
            "__________________________________________________________________________________________________\n",
            "conv2d_4 (Conv2D)               (None, 9, 9, 64)     32832       conv2d_3[0][0]                   \n",
            "__________________________________________________________________________________________________\n",
            "conv2d_5 (Conv2D)               (None, 7, 7, 64)     36928       conv2d_4[0][0]                   \n",
            "__________________________________________________________________________________________________\n",
            "flatten_1 (Flatten)             (None, 3136)         0           conv2d_5[0][0]                   \n",
            "__________________________________________________________________________________________________\n",
            "dense_4 (Dense)                 (None, 512)          1606144     flatten_1[0][0]                  \n",
            "__________________________________________________________________________________________________\n",
            "dense_6 (Dense)                 (None, 512)          1606144     flatten_1[0][0]                  \n",
            "__________________________________________________________________________________________________\n",
            "dense_5 (Dense)                 (None, 6)            3078        dense_4[0][0]                    \n",
            "__________________________________________________________________________________________________\n",
            "dense_7 (Dense)                 (None, 1)            513         dense_6[0][0]                    \n",
            "__________________________________________________________________________________________________\n",
            "concatenate_1 (Concatenate)     (None, 7)            0           dense_5[0][0]                    \n",
            "                                                                 dense_7[0][0]                    \n",
            "__________________________________________________________________________________________________\n",
            "lambda_1 (Lambda)               (None, 6)            0           concatenate_1[0][0]              \n",
            "==================================================================================================\n",
            "Total params: 3,293,863\n",
            "Trainable params: 3,293,863\n",
            "Non-trainable params: 0\n",
            "__________________________________________________________________________________________________\n"
          ]
        }
      ],
      "source": [
        "model = construct_double_q_network(input_shape=(4, 84,84), num_actions=6, loss='mse', optimizer=Adam(lr=0.000001))\n",
        "model.summary()\n"
      ]
    },
    {
      "cell_type": "code",
      "execution_count": 25,
      "metadata": {},
      "outputs": [
        {
          "name": "stdout",
          "output_type": "stream",
          "text": [
            "adv shape: (None, 6), val shape: (None, 1)\n"
          ]
        }
      ],
      "source": [
        "# dqn = DQNAgent(model=model, \n",
        "#                 nb_actions=nb_actions, \n",
        "#                 policy=policy,\n",
        "#                memory=memory, \n",
        "#                processor=processor,\n",
        "#                nb_steps_warmup=50000, \n",
        "#                gamma=.99,\n",
        "#                target_model_update=10000,\n",
        "#                train_interval=4)\n",
        "\n",
        "dqn = DQNAgent(model=model, \n",
        "                nb_actions=nb_actions,\n",
        "                processor=processor,\n",
        "                memory=memory,\n",
        "                nb_steps_warmup=50000,\n",
        "                target_model_update=1e-2, \n",
        "                policy=policy) #target model te congela durante 100 steps lo que se usa para el \"ground truth\"\n",
        "\n",
        "dqn.compile(Adam(learning_rate=.00025), metrics=['mae'])"
      ]
    },
    {
      "cell_type": "code",
      "execution_count": 112,
      "metadata": {
        "id": "5TIpBvFH5uGa"
      },
      "outputs": [
        {
          "name": "stdout",
          "output_type": "stream",
          "text": [
            "Training for 1750000 steps ...\n",
            "Interval 1 (0 steps performed)\n",
            "10000/10000 [==============================] - 85s 8ms/step - reward: 0.0087\n",
            "11 episodes - episode_reward: 7.909 [1.000, 15.000] - ale.lives: 2.069\n",
            "\n",
            "Interval 2 (10000 steps performed)\n",
            "10000/10000 [==============================] - 82s 8ms/step - reward: 0.0095\n",
            "13 episodes - episode_reward: 6.923 [1.000, 14.000] - ale.lives: 2.087\n",
            "\n",
            "Interval 3 (20000 steps performed)\n",
            "10000/10000 [==============================] - 82s 8ms/step - reward: 0.0125\n",
            "13 episodes - episode_reward: 9.692 [0.000, 19.000] - ale.lives: 2.098\n",
            "\n",
            "Interval 4 (30000 steps performed)\n",
            "10000/10000 [==============================] - 85s 9ms/step - reward: 0.0089\n",
            "13 episodes - episode_reward: 7.077 [2.000, 13.000] - ale.lives: 2.037\n",
            "\n",
            "Interval 5 (40000 steps performed)\n",
            "10000/10000 [==============================] - 83s 8ms/step - reward: 0.0098\n",
            "13 episodes - episode_reward: 7.077 [2.000, 15.000] - ale.lives: 2.091\n",
            "\n",
            "Interval 6 (50000 steps performed)\n",
            "10000/10000 [==============================] - 1643s 164ms/step - reward: 0.0155\n",
            "13 episodes - episode_reward: 11.769 [6.000, 18.000] - loss: 0.007 - mae: 0.784 - mean_q: 0.955 - ale.lives: 1.933\n",
            "\n",
            "Interval 7 (60000 steps performed)\n",
            "10000/10000 [==============================] - 2823s 282ms/step - reward: 0.0185\n",
            "12 episodes - episode_reward: 14.667 [7.000, 22.000] - loss: 0.014 - mae: 2.144 - mean_q: 2.588 - ale.lives: 1.877\n",
            "\n",
            "Interval 8 (70000 steps performed)\n",
            "10000/10000 [==============================] - 2998s 300ms/step - reward: 0.0188\n",
            "14 episodes - episode_reward: 14.500 [6.000, 25.000] - loss: 0.015 - mae: 2.771 - mean_q: 3.339 - ale.lives: 2.039\n",
            "\n",
            "Interval 9 (80000 steps performed)\n",
            "10000/10000 [==============================] - 3243s 324ms/step - reward: 0.0191\n",
            "12 episodes - episode_reward: 16.083 [6.000, 23.000] - loss: 0.016 - mae: 3.119 - mean_q: 3.760 - ale.lives: 2.121\n",
            "\n",
            "Interval 10 (90000 steps performed)\n",
            "10000/10000 [==============================] - 2268s 227ms/step - reward: 0.0210\n",
            "12 episodes - episode_reward: 17.000 [6.000, 25.000] - loss: 0.016 - mae: 3.204 - mean_q: 3.861 - ale.lives: 2.250\n",
            "\n",
            "Interval 11 (100000 steps performed)\n",
            "10000/10000 [==============================] - 1860s 186ms/step - reward: 0.0171\n",
            "13 episodes - episode_reward: 13.077 [7.000, 19.000] - loss: 0.016 - mae: 3.250 - mean_q: 3.916 - ale.lives: 2.065\n",
            "\n",
            "Interval 12 (110000 steps performed)\n",
            "10000/10000 [==============================] - 1877s 188ms/step - reward: 0.0181\n",
            "14 episodes - episode_reward: 12.571 [5.000, 22.000] - loss: 0.017 - mae: 3.273 - mean_q: 3.942 - ale.lives: 1.843\n",
            "\n",
            "Interval 13 (120000 steps performed)\n",
            "10000/10000 [==============================] - 1789s 179ms/step - reward: 0.0168\n",
            "15 episodes - episode_reward: 11.800 [6.000, 20.000] - loss: 0.017 - mae: 3.207 - mean_q: 3.863 - ale.lives: 2.172\n",
            "\n",
            "Interval 14 (130000 steps performed)\n",
            "10000/10000 [==============================] - 1799s 180ms/step - reward: 0.0166\n",
            "14 episodes - episode_reward: 12.071 [4.000, 24.000] - loss: 0.018 - mae: 3.254 - mean_q: 3.920 - ale.lives: 2.070\n",
            "\n",
            "Interval 15 (140000 steps performed)\n",
            "10000/10000 [==============================] - 1908s 191ms/step - reward: 0.0196\n",
            "13 episodes - episode_reward: 14.692 [8.000, 22.000] - loss: 0.018 - mae: 3.248 - mean_q: 3.911 - ale.lives: 2.142\n",
            "\n",
            "Interval 16 (150000 steps performed)\n",
            "10000/10000 [==============================] - 2796s 280ms/step - reward: 0.0193 - reward: 0.\n",
            "14 episodes - episode_reward: 13.786 [6.000, 28.000] - loss: 0.018 - mae: 3.202 - mean_q: 3.855 - ale.lives: 2.075\n",
            "\n",
            "Interval 17 (160000 steps performed)\n",
            "10000/10000 [==============================] - 1813s 181ms/step - reward: 0.0207\n",
            "14 episodes - episode_reward: 14.857 [7.000, 28.000] - loss: 0.018 - mae: 3.125 - mean_q: 3.761 - ale.lives: 1.979\n",
            "\n",
            "Interval 18 (170000 steps performed)\n",
            "10000/10000 [==============================] - 1832s 183ms/step - reward: 0.0212\n",
            "14 episodes - episode_reward: 15.000 [5.000, 25.000] - loss: 0.018 - mae: 3.137 - mean_q: 3.776 - ale.lives: 2.081\n",
            "\n",
            "Interval 19 (180000 steps performed)\n",
            "10000/10000 [==============================] - 1958s 196ms/step - reward: 0.0185\n",
            "15 episodes - episode_reward: 12.733 [3.000, 21.000] - loss: 0.017 - mae: 3.131 - mean_q: 3.768 - ale.lives: 2.011\n",
            "\n",
            "Interval 20 (190000 steps performed)\n",
            "10000/10000 [==============================] - 1497s 150ms/step - reward: 0.0201\n",
            "12 episodes - episode_reward: 16.667 [10.000, 26.000] - loss: 0.018 - mae: 3.164 - mean_q: 3.808 - ale.lives: 2.099\n",
            "\n",
            "Interval 21 (200000 steps performed)\n",
            "10000/10000 [==============================] - 1481s 148ms/step - reward: 0.0187\n",
            "12 episodes - episode_reward: 15.083 [3.000, 26.000] - loss: 0.018 - mae: 3.128 - mean_q: 3.763 - ale.lives: 2.129\n",
            "\n",
            "Interval 22 (210000 steps performed)\n",
            "10000/10000 [==============================] - 1486s 149ms/step - reward: 0.0203\n",
            "12 episodes - episode_reward: 16.833 [4.000, 29.000] - loss: 0.018 - mae: 3.062 - mean_q: 3.684 - ale.lives: 1.972\n",
            "\n",
            "Interval 23 (220000 steps performed)\n",
            "10000/10000 [==============================] - 1539s 154ms/step - reward: 0.0218\n",
            "13 episodes - episode_reward: 16.538 [5.000, 32.000] - loss: 0.018 - mae: 3.043 - mean_q: 3.661 - ale.lives: 1.970\n",
            "\n",
            "Interval 24 (230000 steps performed)\n",
            "10000/10000 [==============================] - 1851s 185ms/step - reward: 0.0197\n",
            "12 episodes - episode_reward: 17.333 [9.000, 30.000] - loss: 0.018 - mae: 3.100 - mean_q: 3.730 - ale.lives: 2.089\n",
            "\n",
            "Interval 25 (240000 steps performed)\n",
            "10000/10000 [==============================] - 1872s 187ms/step - reward: 0.0178\n",
            "14 episodes - episode_reward: 11.857 [4.000, 24.000] - loss: 0.018 - mae: 3.160 - mean_q: 3.804 - ale.lives: 2.110\n",
            "\n",
            "Interval 26 (250000 steps performed)\n",
            "10000/10000 [==============================] - 1926s 193ms/step - reward: 0.0198\n",
            "14 episodes - episode_reward: 14.643 [7.000, 27.000] - loss: 0.019 - mae: 3.222 - mean_q: 3.877 - ale.lives: 2.139\n",
            "\n",
            "Interval 27 (260000 steps performed)\n",
            "10000/10000 [==============================] - 1934s 193ms/step - reward: 0.0198 - reward: 0.01\n",
            "12 episodes - episode_reward: 16.000 [9.000, 24.000] - loss: 0.018 - mae: 3.217 - mean_q: 3.871 - ale.lives: 2.125\n",
            "\n",
            "Interval 28 (270000 steps performed)\n",
            "10000/10000 [==============================] - 1943s 194ms/step - reward: 0.0185\n",
            "14 episodes - episode_reward: 14.071 [4.000, 22.000] - loss: 0.019 - mae: 3.206 - mean_q: 3.856 - ale.lives: 2.103\n",
            "\n",
            "Interval 29 (280000 steps performed)\n",
            "10000/10000 [==============================] - 1953s 195ms/step - reward: 0.0184\n",
            "12 episodes - episode_reward: 14.583 [6.000, 22.000] - loss: 0.019 - mae: 3.186 - mean_q: 3.832 - ale.lives: 2.047\n",
            "\n",
            "Interval 30 (290000 steps performed)\n",
            "10000/10000 [==============================] - 1960s 196ms/step - reward: 0.0198\n",
            "11 episodes - episode_reward: 16.364 [10.000, 30.000] - loss: 0.019 - mae: 3.203 - mean_q: 3.855 - ale.lives: 2.106\n",
            "\n",
            "Interval 31 (300000 steps performed)\n",
            "10000/10000 [==============================] - 1974s 197ms/step - reward: 0.0192\n",
            "13 episodes - episode_reward: 15.462 [3.000, 35.000] - loss: 0.020 - mae: 3.282 - mean_q: 3.950 - ale.lives: 2.009\n",
            "\n",
            "Interval 32 (310000 steps performed)\n",
            "10000/10000 [==============================] - 1996s 200ms/step - reward: 0.0202\n",
            "13 episodes - episode_reward: 15.231 [6.000, 20.000] - loss: 0.020 - mae: 3.342 - mean_q: 4.022 - ale.lives: 1.957\n",
            "\n",
            "Interval 33 (320000 steps performed)\n",
            "10000/10000 [==============================] - 2007s 201ms/step - reward: 0.0183\n",
            "13 episodes - episode_reward: 15.538 [4.000, 32.000] - loss: 0.020 - mae: 3.367 - mean_q: 4.052 - ale.lives: 1.981\n",
            "\n",
            "Interval 34 (330000 steps performed)\n",
            "10000/10000 [==============================] - 2024s 202ms/step - reward: 0.0213\n",
            "13 episodes - episode_reward: 16.615 [9.000, 27.000] - loss: 0.019 - mae: 3.326 - mean_q: 4.001 - ale.lives: 2.085\n",
            "\n",
            "Interval 35 (340000 steps performed)\n",
            "10000/10000 [==============================] - 2042s 204ms/step - reward: 0.0196\n",
            "13 episodes - episode_reward: 14.615 [8.000, 23.000] - loss: 0.020 - mae: 3.293 - mean_q: 3.963 - ale.lives: 1.995\n",
            "\n",
            "Interval 36 (350000 steps performed)\n",
            "10000/10000 [==============================] - 2059s 206ms/step - reward: 0.0199\n",
            "13 episodes - episode_reward: 15.769 [9.000, 22.000] - loss: 0.020 - mae: 3.316 - mean_q: 3.991 - ale.lives: 2.137\n",
            "\n",
            "Interval 37 (360000 steps performed)\n",
            "10000/10000 [==============================] - 1938s 194ms/step - reward: 0.0203\n",
            "12 episodes - episode_reward: 16.333 [7.000, 31.000] - loss: 0.020 - mae: 3.329 - mean_q: 4.007 - ale.lives: 2.090\n",
            "\n",
            "Interval 38 (370000 steps performed)\n",
            "10000/10000 [==============================] - 1605s 161ms/step - reward: 0.0201\n",
            "13 episodes - episode_reward: 16.000 [7.000, 30.000] - loss: 0.019 - mae: 3.273 - mean_q: 3.938 - ale.lives: 2.014\n",
            "\n",
            "Interval 39 (380000 steps performed)\n",
            "10000/10000 [==============================] - 1635s 163ms/step - reward: 0.0195\n",
            "13 episodes - episode_reward: 14.308 [5.000, 25.000] - loss: 0.019 - mae: 3.276 - mean_q: 3.942 - ale.lives: 2.042\n",
            "\n",
            "Interval 40 (390000 steps performed)\n",
            "10000/10000 [==============================] - 1644s 164ms/step - reward: 0.0190\n",
            "13 episodes - episode_reward: 14.308 [8.000, 29.000] - loss: 0.019 - mae: 3.278 - mean_q: 3.944 - ale.lives: 1.952\n",
            "\n",
            "Interval 41 (400000 steps performed)\n",
            "10000/10000 [==============================] - 1670s 167ms/step - reward: 0.0198\n",
            "14 episodes - episode_reward: 14.357 [8.000, 25.000] - loss: 0.019 - mae: 3.313 - mean_q: 3.986 - ale.lives: 2.123\n",
            "\n",
            "Interval 42 (410000 steps performed)\n",
            "10000/10000 [==============================] - 1760s 176ms/step - reward: 0.0182\n",
            "13 episodes - episode_reward: 14.308 [7.000, 22.000] - loss: 0.020 - mae: 3.354 - mean_q: 4.036 - ale.lives: 1.935\n",
            "\n",
            "Interval 43 (420000 steps performed)\n",
            "10000/10000 [==============================] - 1744s 174ms/step - reward: 0.0212\n",
            "12 episodes - episode_reward: 17.083 [11.000, 23.000] - loss: 0.019 - mae: 3.274 - mean_q: 3.939 - ale.lives: 1.993\n",
            "\n",
            "Interval 44 (430000 steps performed)\n",
            "10000/10000 [==============================] - 1781s 178ms/step - reward: 0.0196\n",
            "13 episodes - episode_reward: 14.769 [4.000, 36.000] - loss: 0.019 - mae: 3.293 - mean_q: 3.961 - ale.lives: 2.070\n",
            "\n",
            "Interval 45 (440000 steps performed)\n",
            "10000/10000 [==============================] - 1769s 177ms/step - reward: 0.0205\n",
            "11 episodes - episode_reward: 17.909 [5.000, 33.000] - loss: 0.020 - mae: 3.320 - mean_q: 3.996 - ale.lives: 2.018\n",
            "\n",
            "Interval 46 (450000 steps performed)\n",
            "10000/10000 [==============================] - 1794s 179ms/step - reward: 0.0188\n",
            "13 episodes - episode_reward: 16.308 [4.000, 33.000] - loss: 0.020 - mae: 3.344 - mean_q: 4.023 - ale.lives: 2.259\n",
            "\n",
            "Interval 47 (460000 steps performed)\n",
            " 4711/10000 [=============>................] - ETA: 16:26 - reward: 0.0210done, took 80791.261 seconds\n"
          ]
        }
      ],
      "source": [
        "# Training part\n",
        "weights_filename = 'dqn_{}_weights.h5f'.format(env_name)\n",
        "checkpoint_weights_filename = 'dqn_' + env_name + '_weights_{step}.h5f'\n",
        "log_filename = 'dqn_{}_log.json'.format(env_name)\n",
        "callbacks = [ModelIntervalCheckpoint(checkpoint_weights_filename, interval=250000)]\n",
        "callbacks += [FileLogger(log_filename, interval=100)]\n",
        "\n",
        "dqn.fit(env, callbacks=callbacks, nb_steps=1750000, log_interval=10000, visualize=False)\n",
        "\n",
        "dqn.save_weights(weights_filename, overwrite=True)"
      ]
    },
    {
      "cell_type": "code",
      "execution_count": 26,
      "metadata": {
        "id": "OHYryKd1Gb2b"
      },
      "outputs": [
        {
          "name": "stdout",
          "output_type": "stream",
          "text": [
            "Testing for 10 episodes ...\n"
          ]
        },
        {
          "name": "stderr",
          "output_type": "stream",
          "text": [
            "c:\\Users\\javie\\anaconda3\\envs\\gym\\lib\\site-packages\\tensorflow\\python\\keras\\engine\\training.py:2424: UserWarning: `Model.state_updates` will be removed in a future version. This property should not be used in TensorFlow 2.0, as `updates` are applied automatically.\n",
            "  warnings.warn('`Model.state_updates` will be removed in a future version. '\n"
          ]
        },
        {
          "name": "stdout",
          "output_type": "stream",
          "text": [
            "Episode 1: reward: 17.000, steps: 930\n",
            "Episode 2: reward: 5.000, steps: 391\n",
            "Episode 3: reward: 8.000, steps: 554\n",
            "Episode 4: reward: 6.000, steps: 483\n",
            "Episode 5: reward: 25.000, steps: 1061\n",
            "Episode 6: reward: 20.000, steps: 1035\n",
            "Episode 7: reward: 21.000, steps: 967\n",
            "Episode 8: reward: 10.000, steps: 654\n",
            "Episode 9: reward: 14.000, steps: 807\n",
            "Episode 10: reward: 19.000, steps: 978\n"
          ]
        },
        {
          "data": {
            "text/plain": [
              "<tensorflow.python.keras.callbacks.History at 0x232ba2d1280>"
            ]
          },
          "execution_count": 26,
          "metadata": {},
          "output_type": "execute_result"
        }
      ],
      "source": [
        "# Testing part to calculate the mean reward\n",
        "weights_filename = 'dqn_{}_weights_250000.h5f'.format(env_name)\n",
        "dqn.load_weights(weights_filename)\n",
        "dqn.test(env, nb_episodes=10, visualize=False)"
      ]
    },
    {
      "cell_type": "code",
      "execution_count": 27,
      "metadata": {},
      "outputs": [
        {
          "name": "stdout",
          "output_type": "stream",
          "text": [
            "Training for 250000 steps ...\n",
            "Interval 1 (0 steps performed)\n",
            "    1/10000 [..............................] - ETA: 1:44 - reward: 0.0000e+00"
          ]
        },
        {
          "name": "stdout",
          "output_type": "stream",
          "text": [
            "10000/10000 [==============================] - 69s 7ms/step - reward: 0.0178\n",
            "14 episodes - episode_reward: 12.714 [3.000, 20.000] - ale.lives: 2.109\n",
            "\n",
            "Interval 2 (10000 steps performed)\n",
            "10000/10000 [==============================] - 69s 7ms/step - reward: 0.0184\n",
            "13 episodes - episode_reward: 12.692 [1.000, 20.000] - ale.lives: 2.055\n",
            "\n",
            "Interval 3 (20000 steps performed)\n",
            "10000/10000 [==============================] - 68s 7ms/step - reward: 0.0177\n",
            "14 episodes - episode_reward: 13.714 [4.000, 25.000] - ale.lives: 1.945\n",
            "\n",
            "Interval 4 (30000 steps performed)\n",
            "10000/10000 [==============================] - 69s 7ms/step - reward: 0.0194\n",
            "11 episodes - episode_reward: 17.091 [8.000, 24.000] - ale.lives: 2.035\n",
            "\n",
            "Interval 5 (40000 steps performed)\n",
            "10000/10000 [==============================] - 68s 7ms/step - reward: 0.0174\n",
            "13 episodes - episode_reward: 13.692 [4.000, 30.000] - ale.lives: 1.947\n",
            "\n",
            "Interval 6 (50000 steps performed)\n",
            "10000/10000 [==============================] - 1512s 151ms/step - reward: 0.0184\n",
            "13 episodes - episode_reward: 14.615 [5.000, 25.000] - loss: 0.018 - mae: 3.130 - mean_q: 3.777 - ale.lives: 1.976\n",
            "\n",
            "Interval 7 (60000 steps performed)\n",
            "10000/10000 [==============================] - 1488s 149ms/step - reward: 0.0180\n",
            "13 episodes - episode_reward: 13.769 [5.000, 25.000] - loss: 0.022 - mae: 3.799 - mean_q: 4.590 - ale.lives: 1.906\n",
            "\n",
            "Interval 8 (70000 steps performed)\n",
            "10000/10000 [==============================] - 1417s 142ms/step - reward: 0.0191\n",
            "13 episodes - episode_reward: 14.077 [8.000, 21.000] - loss: 0.029 - mae: 4.417 - mean_q: 5.338 - ale.lives: 2.014\n",
            "\n",
            "Interval 9 (80000 steps performed)\n",
            "10000/10000 [==============================] - 1411s 141ms/step - reward: 0.0182\n",
            "12 episodes - episode_reward: 15.917 [5.000, 27.000] - loss: 0.033 - mae: 4.818 - mean_q: 5.817 - ale.lives: 1.912\n",
            "\n",
            "Interval 10 (90000 steps performed)\n",
            "10000/10000 [==============================] - 1466s 147ms/step - reward: 0.0200\n",
            "9 episodes - episode_reward: 20.667 [9.000, 34.000] - loss: 0.036 - mae: 5.031 - mean_q: 6.071 - ale.lives: 2.069\n",
            "\n",
            "Interval 11 (100000 steps performed)\n",
            "10000/10000 [==============================] - 1522s 152ms/step - reward: 0.0201\n",
            "14 episodes - episode_reward: 15.071 [3.000, 29.000] - loss: 0.036 - mae: 5.060 - mean_q: 6.105 - ale.lives: 2.038\n",
            "\n",
            "Interval 12 (110000 steps performed)\n",
            "10000/10000 [==============================] - 1615s 161ms/step - reward: 0.0153\n",
            "12 episodes - episode_reward: 12.250 [6.000, 21.000] - loss: 0.036 - mae: 5.021 - mean_q: 6.058 - ale.lives: 2.006\n",
            "\n",
            "Interval 13 (120000 steps performed)\n",
            "10000/10000 [==============================] - 1657s 166ms/step - reward: 0.0168\n",
            "13 episodes - episode_reward: 13.538 [5.000, 23.000] - loss: 0.037 - mae: 4.954 - mean_q: 5.975 - ale.lives: 2.088\n",
            "\n",
            "Interval 14 (130000 steps performed)\n",
            "10000/10000 [==============================] - 1551s 155ms/step - reward: 0.0189\n",
            "13 episodes - episode_reward: 14.308 [3.000, 23.000] - loss: 0.034 - mae: 4.792 - mean_q: 5.775 - ale.lives: 2.109\n",
            "\n",
            "Interval 15 (140000 steps performed)\n",
            "10000/10000 [==============================] - 1717s 172ms/step - reward: 0.0170\n",
            "11 episodes - episode_reward: 15.000 [8.000, 30.000] - loss: 0.033 - mae: 4.621 - mean_q: 5.568 - ale.lives: 2.060\n",
            "\n",
            "Interval 16 (150000 steps performed)\n",
            "10000/10000 [==============================] - 1637s 164ms/step - reward: 0.0178\n",
            "13 episodes - episode_reward: 13.692 [5.000, 23.000] - loss: 0.031 - mae: 4.440 - mean_q: 5.348 - ale.lives: 2.007\n",
            "\n",
            "Interval 17 (160000 steps performed)\n",
            "10000/10000 [==============================] - 1606s 161ms/step - reward: 0.0177\n",
            "13 episodes - episode_reward: 12.923 [5.000, 35.000] - loss: 0.028 - mae: 4.224 - mean_q: 5.086 - ale.lives: 2.080\n",
            "\n",
            "Interval 18 (170000 steps performed)\n",
            "10000/10000 [==============================] - 1639s 164ms/step - reward: 0.0155\n",
            "11 episodes - episode_reward: 15.727 [5.000, 26.000] - loss: 0.027 - mae: 4.165 - mean_q: 5.016 - ale.lives: 2.070\n",
            "\n",
            "Interval 19 (180000 steps performed)\n",
            "10000/10000 [==============================] - 2039s 204ms/step - reward: 0.0156\n",
            "13 episodes - episode_reward: 12.077 [4.000, 21.000] - loss: 0.027 - mae: 4.103 - mean_q: 4.941 - ale.lives: 2.077\n",
            "\n",
            "Interval 20 (190000 steps performed)\n",
            "10000/10000 [==============================] - 1662s 166ms/step - reward: 0.0185\n",
            "12 episodes - episode_reward: 15.000 [6.000, 28.000] - loss: 0.026 - mae: 4.059 - mean_q: 4.889 - ale.lives: 2.018\n",
            "\n",
            "Interval 21 (200000 steps performed)\n",
            "10000/10000 [==============================] - 1493s 149ms/step - reward: 0.0177\n",
            "13 episodes - episode_reward: 13.077 [5.000, 23.000] - loss: 0.026 - mae: 3.996 - mean_q: 4.812 - ale.lives: 1.939\n",
            "\n",
            "Interval 22 (210000 steps performed)\n",
            "10000/10000 [==============================] - 1571s 157ms/step - reward: 0.0194\n",
            "13 episodes - episode_reward: 15.154 [6.000, 27.000] - loss: 0.026 - mae: 3.945 - mean_q: 4.750 - ale.lives: 2.071\n",
            "\n",
            "Interval 23 (220000 steps performed)\n",
            "10000/10000 [==============================] - 1881s 188ms/step - reward: 0.0200\n",
            "14 episodes - episode_reward: 13.357 [4.000, 32.000] - loss: 0.026 - mae: 3.933 - mean_q: 4.738 - ale.lives: 2.157\n",
            "\n",
            "Interval 24 (230000 steps performed)\n",
            "10000/10000 [==============================] - 1720s 172ms/step - reward: 0.0183\n",
            "11 episodes - episode_reward: 18.182 [9.000, 34.000] - loss: 0.025 - mae: 3.890 - mean_q: 4.684 - ale.lives: 1.923\n",
            "\n",
            "Interval 25 (240000 steps performed)\n",
            " 5929/10000 [================>.............] - ETA: 16:17 - reward: 0.0159"
          ]
        }
      ],
      "source": [
        "\n",
        "#checkpoint_weights_filename = 'dqn_' + env_name + '_weights_{step}.h5f'\n",
        "log_filename = 'dqn_{}_log.json'.format(env_name)\n",
        "#callbacks = [ModelIntervalCheckpoint(checkpoint_weights_filename, interval=250000)]\n",
        "callbacks = [FileLogger(log_filename, interval=100)]\n",
        "\n",
        "\n",
        "dqn.fit(env, callbacks=callbacks, nb_steps=250000, log_interval=10000, visualize=False)\n",
        "\n",
        "weights_filename = 'dqn_{}_weights_500000.h5f'.format(env_name)\n",
        "dqn.save_weights(weights_filename, overwrite=True)"
      ]
    },
    {
      "cell_type": "code",
      "execution_count": null,
      "metadata": {},
      "outputs": [],
      "source": [
        "weights_filename = 'dqn_{}_weights_500000.h5f'.format(env_name)\n",
        "dqn.load_weights(weights_filename)\n",
        "dqn.test(env, nb_episodes=10, visualize=False)"
      ]
    },
    {
      "cell_type": "markdown",
      "metadata": {
        "id": "-NAlu8b1Gb2b"
      },
      "source": [
        "3. Justificación de los parámetros seleccionados y de los resultados obtenidos"
      ]
    },
    {
      "cell_type": "markdown",
      "metadata": {
        "id": "ANFQiicXK3sO"
      },
      "source": [
        "---"
      ]
    }
  ],
  "metadata": {
    "colab": {
      "provenance": []
    },
    "kernelspec": {
      "display_name": "Python 3",
      "language": "python",
      "name": "python3"
    },
    "language_info": {
      "codemirror_mode": {
        "name": "ipython",
        "version": 3
      },
      "file_extension": ".py",
      "mimetype": "text/x-python",
      "name": "python",
      "nbconvert_exporter": "python",
      "pygments_lexer": "ipython3",
      "version": "3.8.19"
    }
  },
  "nbformat": 4,
  "nbformat_minor": 0
}
